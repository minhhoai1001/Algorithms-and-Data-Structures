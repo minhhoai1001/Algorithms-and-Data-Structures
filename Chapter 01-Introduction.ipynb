{
 "cells": [
  {
   "cell_type": "markdown",
   "metadata": {},
   "source": [
    "# Problem Solving with Algorithms and Data Structures using Python\n",
    "**By Brad Miller and David Ranum, Luther College (as remixed by Jeffrey Elkner)**"
   ]
  },
  {
   "cell_type": "markdown",
   "metadata": {},
   "source": [
    "## 1. Giới thiệu"
   ]
  },
  {
   "cell_type": "markdown",
   "metadata": {},
   "source": [
    "### 1.1 Mục tiêu\n",
    "* Để xem lại các ý tưởng về khoa học máy tính, lập trình và giải quyết vấn đề.\n",
    "* Để hiểu sự trừu tượng và vai trò của nó trong quá trình giải quyết vấn đề.\n",
    "* Để hiểu và thực hiện khái niệm về kiểu dữ liệu trừu tượng.\n",
    "* Để xem lại ngôn ngữ lập trình Python."
   ]
  },
  {
   "cell_type": "markdown",
   "metadata": {},
   "source": [
    "### 1.2 Bắt đầu\n",
    "Cách chúng ta nghĩ về lập trình đã trải qua nhiều thay đổi trong những năm kể từ khi những chiếc máy tính điện tử đầu tiên yêu cầu dây cáp và bộ chuyển mạch để truyền tải hướng dẫn từ người sang máy. Cũng như nhiều khía cạnh của xã hội, những thay đổi trong công nghệ máy tính cung cấp cho các nhà khoa học máy tính ngày càng nhiều công cụ và nền tảng để thực hành nghề của họ. Những tiến bộ như bộ vi xử lý nhanh hơn, mạng tốc độ cao và dung lượng bộ nhớ lớn đã tạo ra một vòng xoáy phức tạp mà các nhà khoa học máy tính phải điều hướng. Trong suốt quá trình tiến hóa nhanh chóng này, một số nguyên tắc cơ bản vẫn không đổi. Khoa học máy tính liên quan đến việc sử dụng máy tính để giải quyết vấn đề.\n",
    "\n",
    "Bạn chắc chắn đã dành thời gian đáng kể để học những kiến thức cơ bản về giải quyết vấn đề và hy vọng cảm thấy tự tin vào khả năng của mình để đưa ra một tuyên bố và phát triển một giải pháp. Bạn cũng đã học được rằng việc viết các chương trình máy tính thường rất khó. Sự phức tạp của các vấn đề lớn và độ phức tạp tương ứng của các giải pháp có thể có xu hướng làm lu mờ những ý tưởng cơ bản liên quan đến quá trình giải quyết vấn đề.\n",
    "\n",
    "Chương này nhấn mạnh hai lĩnh vực quan trọng đối với phần còn lại của văn bản. Đầu tiên, nó xem xét khuôn khổ mà khoa học máy tính và việc nghiên cứu các thuật toán và cấu trúc dữ liệu phải phù hợp, đặc biệt là lý do tại sao chúng ta cần nghiên cứu các chủ đề này và cách hiểu các chủ đề này giúp chúng ta trở thành những người giải quyết vấn đề tốt hơn. Thứ hai, chúng tôi xem xét ngôn ngữ lập trình Python. Mặc dù chúng tôi không thể cung cấp tài liệu tham khảo chi tiết, đầy đủ, chúng tôi sẽ đưa ra các ví dụ và giải thích cho các cấu trúc và ý tưởng cơ bản sẽ xảy ra trong suốt các chương còn lại."
   ]
  },
  {
   "cell_type": "markdown",
   "metadata": {},
   "source": [
    "### 1.3 Khoa học máy tính là gì?\n",
    "Khoa học máy tính thường khó định nghĩa. Điều này có thể là do việc sử dụng từ \"máy tính\" trong tên một cách đáng tiếc. Có lẽ bạn đã biết, khoa học máy tính không chỉ đơn giản là nghiên cứu về máy tính. Mặc dù máy tính đóng một vai trò hỗ trợ quan trọng như một công cụ trong lĩnh vực này, chúng chỉ là công cụ.\n",
    "\n",
    "Khoa học máy tính là ngành nghiên cứu các vấn đề, giải quyết vấn đề và các giải pháp xuất phát từ quá trình giải quyết vấn đề. Đưa ra một vấn đề, mục tiêu của nhà khoa học máy tính là phát triển một **thuật toán**, danh sách hướng dẫn từng bước để giải quyết bất kỳ trường hợp nào của vấn đề có thể nảy sinh. Thuật toán là các quá trình hữu hạn mà nếu tuân theo sẽ giải quyết được vấn đề. Thuật toán là giải pháp.\n",
    "\n",
    "Khoa học máy tính có thể được coi là nghiên cứu các thuật toán. Tuy nhiên, chúng ta phải cẩn thận bao gồm thực tế là một số vấn đề có thể không có giải pháp. Mặc dù chứng minh tuyên bố này nằm ngoài phạm vi của văn bản này, thực tế là một số vấn đề không thể giải quyết được là điều quan trọng đối với những người nghiên cứu khoa học máy tính. Do đó, chúng ta có thể định nghĩa đầy đủ về khoa học máy tính bằng cách bao gồm cả hai loại vấn đề và nói rằng khoa học máy tính là nghiên cứu các giải pháp cho các vấn đề cũng như nghiên cứu các vấn đề không có giải pháp.\n",
    "\n",
    "Nó cũng rất phổ biến để bao gồm từ tính toán được khi mô tả các vấn đề và giải pháp. Chúng tôi nói rằng một vấn đề có thể tính toán được nếu tồn tại một thuật toán để giải nó. Do đó, một định nghĩa thay thế cho khoa học máy tính là nói rằng khoa học máy tính là ngành nghiên cứu các vấn đề có và không thể tính được, nghiên cứu về sự tồn tại và không tồn tại của các thuật toán. Trong mọi trường hợp, bạn sẽ lưu ý rằng từ “máy tính” hoàn toàn không xuất hiện. Các giải pháp được coi là độc lập với máy.\n",
    "\n",
    "Khoa học máy tính, vì nó liên quan đến quá trình giải quyết vấn đề, cũng là ngành nghiên cứu về sự trừu tượng. Tính trừu tượng cho phép chúng ta nhìn nhận vấn đề và giải pháp theo cách tách biệt cái gọi là quan điểm logic và quan điểm vật lý. Ý tưởng cơ bản quen thuộc với chúng ta trong một ví dụ phổ biến.\n",
    "\n",
    "Hãy xem xét chiếc ô tô mà bạn có thể đã lái đi học hoặc đi làm hôm nay. Với tư cách là người lái xe, người sử dụng xe, bạn có những tương tác nhất định diễn ra để sử dụng xe đúng mục đích. Bạn vào xe, cắm chìa khóa, khởi động xe, sang số, phanh, tăng tốc và bẻ lái để lái xe. Từ một quan điểm trừu tượng, chúng tôi có thể nói rằng bạn đang nhìn thấy quan điểm logic của ô tô. Bạn đang sử dụng các chức năng do các nhà thiết kế ô tô cung cấp cho mục đích vận chuyển bạn từ địa điểm này đến địa điểm khác. Các chức năng này đôi khi cũng được gọi là **giao diện**.\n",
    "\n",
    "Mặt khác, người thợ sửa chữa ô tô của bạn có quan điểm rất khác. Cô ấy không chỉ biết lái xe mà còn phải biết tất cả các chi tiết cần thiết để thực hiện tất cả các chức năng mà chúng tôi cho là đương nhiên. Cô ấy cần hiểu cách thức hoạt động của động cơ, cách bộ truyền sang số, nhiệt độ được kiểm soát như thế nào, v.v. Đây được gọi là góc nhìn vật lý, các chi tiết diễn ra “under the hood”.\n",
    "\n",
    "Điều tương tự cũng xảy ra khi chúng ta sử dụng máy tính. Hầu hết mọi người sử dụng máy tính để soạn thảo văn bản, gửi và nhận email, lướt web, chơi nhạc, lưu trữ hình ảnh và chơi trò chơi mà không cần biết về các chi tiết diễn ra để cho phép các loại ứng dụng đó hoạt động. Họ xem máy tính từ góc độ logic hoặc người dùng. Các nhà khoa học máy tính, lập trình viên, nhân viên hỗ trợ công nghệ và quản trị viên hệ thống có cái nhìn rất khác về máy tính. Họ phải biết chi tiết về cách hoạt động của hệ điều hành, cách cấu hình các giao thức mạng và cách viết mã các tập lệnh khác nhau điều khiển chức năng. Họ phải có khả năng kiểm soát các chi tiết cấp thấp mà người dùng chỉ đơn giản là giả định.\n",
    "\n",
    "Điểm chung của cả hai ví dụ này là người dùng phần trừu tượng, đôi khi còn được gọi là máy khách, không cần biết chi tiết miễn là người dùng biết cách thức hoạt động của giao diện. Giao diện này là cách chúng tôi với tư cách là người dùng giao tiếp với những phức tạp cơ bản của việc triển khai. Như một ví dụ khác về tính trừu tượng, hãy xem xét mô-đun *math* Python. Khi chúng tôi nhập mô-đun, chúng tôi có thể thực hiện các phép tính như:"
   ]
  },
  {
   "cell_type": "code",
   "execution_count": 2,
   "metadata": {},
   "outputs": [
    {
     "data": {
      "text/plain": [
       "4.0"
      ]
     },
     "execution_count": 2,
     "metadata": {},
     "output_type": "execute_result"
    }
   ],
   "source": [
    "import math\n",
    "math.sqrt(16)"
   ]
  },
  {
   "cell_type": "markdown",
   "metadata": {},
   "source": [
    "Đây là một ví dụ về sự trừu tượng hóa thủ tục. Chúng ta không nhất thiết phải biết cách tính căn bậc hai, nhưng chúng ta biết hàm được gọi là gì và cách sử dụng nó. Nếu chúng tôi thực hiện nhập chính xác, chúng tôi có thể giả định rằng hàm sẽ cung cấp cho chúng tôi kết quả chính xác. Chúng tôi biết rằng ai đó đã thực hiện một giải pháp cho vấn đề căn bậc hai nhưng chúng tôi chỉ cần biết cách sử dụng nó. Đây đôi khi được gọi là chế độ xem “black box” của một quá trình. Chúng tôi chỉ đơn giản mô tả giao diện: tên của hàm, những gì cần thiết (các tham số) và những gì sẽ được trả về."
   ]
  },
  {
   "cell_type": "markdown",
   "metadata": {},
   "source": [
    "### 1.4. Lập trình là gì?\n",
    "Lập trình là quá trình lấy một thuật toán và mã hóa nó thành một ký hiệu, một ngôn ngữ lập trình để máy tính có thể thực thi. Mặc dù tồn tại nhiều ngôn ngữ lập trình và nhiều loại máy tính khác nhau, nhưng bước đầu tiên quan trọng là cần phải có giải pháp. Không có thuật toán thì không thể có chương trình.\n",
    "\n",
    "Khoa học máy tính không phải là nghiên cứu về lập trình. Tuy nhiên, lập trình là một phần quan trọng trong công việc của một nhà khoa học máy tính. Lập trình thường là cách mà chúng tôi tạo ra một đại diện cho các giải pháp của mình. Do đó, sự thể hiện ngôn ngữ này và quá trình tạo ra nó trở thành một phần cơ bản của ngành học.\n",
    "\n",
    "Các thuật toán mô tả giải pháp cho một vấn đề dưới dạng dữ liệu cần thiết để đại diện cho trường hợp vấn đề và tập hợp các bước cần thiết để tạo ra kết quả dự kiến. Ngôn ngữ lập trình phải cung cấp một cách ký hiệu để biểu diễn cả quá trình và dữ liệu. Để đạt được điều này, các ngôn ngữ cung cấp các cấu trúc điều khiển và kiểu dữ liệu.\n",
    "\n",
    "Cấu trúc điều khiển cho phép các bước thuật toán được biểu diễn một cách thuận tiện nhưng rõ ràng. Ở mức tối thiểu, các thuật toán yêu cầu các cấu trúc thực hiện xử lý tuần tự, lựa chọn để ra quyết định và lặp lại để kiểm soát lặp lại. Miễn là ngôn ngữ cung cấp các câu lệnh cơ bản này, nó có thể được sử dụng để biểu diễn thuật toán.\n",
    "\n",
    "Tất cả các mục dữ liệu trong máy tính được biểu diễn dưới dạng chuỗi các chữ số nhị phân. Để cung cấp cho các chuỗi này ý nghĩa, chúng ta cần có các kiểu dữ liệu. Các kiểu dữ liệu cung cấp cách diễn giải cho dữ liệu nhị phân này để chúng ta có thể suy nghĩ về dữ liệu theo các thuật ngữ phù hợp với vấn đề đang được giải quyết. Các kiểu dữ liệu tích hợp sẵn, cấp thấp này (đôi khi được gọi là kiểu dữ liệu nguyên thủy) cung cấp các khối xây dựng để phát triển thuật toán.\n",
    "\n",
    "Ví dụ, hầu hết các ngôn ngữ lập trình đều cung cấp kiểu dữ liệu cho số nguyên. Chuỗi chữ số nhị phân trong bộ nhớ của máy tính có thể được hiểu là số nguyên và cung cấp các ý nghĩa điển hình mà chúng ta thường liên kết với số nguyên (ví dụ: 23, 654 và -19). Ngoài ra, kiểu dữ liệu cũng cung cấp mô tả về các hoạt động mà các mục dữ liệu có thể tham gia. Với số nguyên, các phép toán như cộng, trừ và nhân là phổ biến. Chúng tôi hy vọng rằng các kiểu dữ liệu số có thể tham gia vào các phép toán số học này.\n",
    "\n",
    "Khó khăn thường nảy sinh đối với chúng tôi là các vấn đề và giải pháp của chúng rất phức tạp. Các cấu trúc và kiểu dữ liệu đơn giản, do ngôn ngữ cung cấp này, mặc dù chắc chắn đủ để đại diện cho các giải pháp phức tạp, nhưng thường gặp bất lợi khi chúng ta làm việc trong quá trình giải quyết vấn đề. Chúng tôi cần các cách để kiểm soát sự phức tạp này và hỗ trợ tạo ra các giải pháp."
   ]
  },
  {
   "cell_type": "markdown",
   "metadata": {},
   "source": [
    "### 1.5 Tại sao phải nghiên cứu cấu trúc dữ liệu và kiểu dữ liệu trừu tượng? ###\n",
    "Để quản lý mức độ phức tạp của các vấn đề và quá trình giải quyết vấn đề, các nhà khoa học máy tính sử dụng tính trừu tượng để cho phép họ tập trung vào “bức tranh lớn” mà không bị lạc vào các chi tiết. Bằng cách tạo các mô hình của miền vấn đề, chúng tôi có thể sử dụng quy trình giải quyết vấn đề tốt hơn và hiệu quả hơn. Các mô hình này cho phép chúng tôi mô tả dữ liệu mà các thuật toán của chúng tôi sẽ thao tác theo cách nhất quán hơn nhiều đối với chính vấn đề.\n",
    "\n",
    "Trước đó, chúng ta đã gọi trừu tượng hóa thủ tục là một quá trình ẩn các chi tiết của một chức năng cụ thể để cho phép người dùng hoặc khách hàng xem nó ở cấp độ rất cao. Bây giờ chúng ta chuyển sự chú ý sang một ý tưởng tương tự, đó là sự trừu tượng hóa dữ liệu. Một kiểu dữ liệu trừu tượng, đôi khi được viết tắt là ADT(**abstract data type**), là một mô tả logic về cách chúng ta xem dữ liệu và các thao tác được phép mà không liên quan đến cách chúng sẽ được thực hiện. Điều này có nghĩa là chúng tôi chỉ quan tâm đến những gì dữ liệu đang đại diện chứ không phải về cách cuối cùng nó sẽ được xây dựng. Bằng cách cung cấp mức trừu tượng này, chúng tôi đang tạo ra một sự đóng gói xung quanh dữ liệu. Ý tưởng là bằng cách gói gọn các chi tiết của việc triển khai, chúng tôi đang ẩn chúng khỏi chế độ xem của người dùng. Đây được gọi là **ẩn thông tin**.\n",
    "\n",
    "Hình 2 cho thấy một bức tranh về kiểu dữ liệu trừu tượng là gì và cách nó hoạt động. Người dùng tương tác với giao diện, sử dụng các thao tác đã được chỉ định bởi kiểu dữ liệu trừu tượng. Kiểu dữ liệu trừu tượng là shell mà người dùng tương tác. Việc triển khai được ẩn sâu hơn một cấp. Người dùng không quan tâm đến các chi tiết của việc thực hiện."
   ]
  },
  {
   "cell_type": "markdown",
   "metadata": {},
   "source": [
    "![alt text](images/adt.png \"Title\")"
   ]
  },
  {
   "cell_type": "markdown",
   "metadata": {},
   "source": [
    "Việc triển khai một kiểu dữ liệu trừu tượng, thường được gọi là **cấu trúc dữ liệu**, sẽ yêu cầu chúng ta cung cấp một cái nhìn vật lý về dữ liệu bằng cách sử dụng một số tập hợp các cấu trúc lập trình và kiểu dữ liệu nguyên thủy. Như chúng ta đã thảo luận trước đó, việc tách biệt hai quan điểm này sẽ cho phép chúng ta xác định các mô hình dữ liệu phức tạp cho các vấn đề của chúng ta mà không đưa ra bất kỳ dấu hiệu nào về chi tiết về cách mô hình thực sự sẽ được xây dựng. Điều này cung cấp chế độ xem dữ liệu độc lập với việc triển khai Vì thường sẽ có nhiều cách khác nhau để triển khai một kiểu dữ liệu trừu tượng, nên tính độc lập thực thi này cho phép lập trình viên chuyển đổi các chi tiết của việc triển khai mà không thay đổi cách người dùng dữ liệu tương tác với nó. Người dùng có thể vẫn tập trung vào quá trình giải quyết vấn đề."
   ]
  },
  {
   "cell_type": "markdown",
   "metadata": {},
   "source": [
    "### 1.6. Tại sao phải nghiên cứu thuật toán? ###\n",
    "Các nhà khoa học máy tính học bằng kinh nghiệm. Chúng ta học bằng cách nhìn người khác giải quyết vấn đề và bằng cách tự giải quyết vấn đề. Tiếp xúc với các kỹ thuật giải quyết vấn đề khác nhau và xem các thuật toán khác nhau được thiết kế như thế nào sẽ giúp chúng tôi giải quyết vấn đề khó khăn tiếp theo mà chúng tôi được giao. Bằng cách xem xét một số thuật toán khác nhau, chúng tôi có thể bắt đầu phát triển tính năng nhận dạng mẫu để lần sau khi một vấn đề tương tự phát sinh, chúng tôi có thể giải quyết nó tốt hơn.\n",
    "\n",
    "Các thuật toán thường khá khác biệt với nhau. Hãy xem xét ví dụ về *sqrt* đã thấy trước đó. Hoàn toàn có thể có nhiều cách khác nhau để thực hiện các chi tiết để tính hàm căn bậc hai. Một thuật toán có thể sử dụng ít tài nguyên hơn một thuật toán khác. Một thuật toán có thể mất nhiều thời gian gấp 10 lần để trả về kết quả như thuật toán kia. Chúng tôi muốn có một số cách để so sánh hai giải pháp này. Mặc dù cả hai đều hoạt động, nhưng một cái có lẽ “tốt hơn” cái kia. Chúng tôi có thể đề xuất rằng cái nào hiệu quả hơn hoặc cái đơn giản là hoạt động nhanh hơn hoặc sử dụng ít bộ nhớ hơn. Khi nghiên cứu các thuật toán, chúng ta có thể học các kỹ thuật phân tích cho phép chúng ta so sánh và đối chiếu các giải pháp chỉ dựa trên các đặc điểm riêng của chúng, không phải các đặc điểm của chương trình hoặc máy tính được sử dụng để thực hiện chúng.\n",
    "\n",
    "Trong trường hợp xấu nhất, chúng ta có thể gặp một vấn đề khó chữa, nghĩa là không có thuật toán nào có thể giải quyết vấn đề trong một khoảng thời gian thực tế. Điều quan trọng là có thể phân biệt giữa những vấn đề có giải pháp, những vấn đề không và những vấn đề tồn tại giải pháp nhưng đòi hỏi quá nhiều thời gian hoặc nguồn lực khác để hoạt động hợp lý.\n",
    "\n",
    "Thường sẽ có những đánh đổi mà chúng ta cần xác định và quyết định. Là nhà khoa học máy tính, ngoài khả năng giải quyết vấn đề, chúng ta cũng cần phải biết và hiểu các kỹ thuật đánh giá giải pháp. Cuối cùng, thường có nhiều cách để giải quyết một vấn đề. Tìm một giải pháp và sau đó quyết định xem nó có phải là một giải pháp tốt hay không là những nhiệm vụ mà chúng tôi sẽ làm đi làm lại."
   ]
  },
  {
   "cell_type": "markdown",
   "metadata": {},
   "source": [
    "### 1.7. Review of Basic Python\n",
    "Trong phần này, chúng tôi sẽ xem xét ngôn ngữ lập trình Python và cũng cung cấp một số ví dụ chi tiết hơn về các ý tưởng từ phần trước. Nếu bạn chưa quen với Python hoặc nhận thấy rằng bạn cần thêm thông tin về bất kỳ chủ đề nào được trình bày, chúng tôi khuyên bạn nên tham khảo tài nguyên như *Python Language Reference* hoặc *Python Tutorial*. Mục tiêu của chúng tôi ở đây là làm quen lại với bạn về ngôn ngữ và cũng như củng cố một số khái niệm sẽ là trọng tâm của các chương sau.\n",
    "\n",
    "Python là một ngôn ngữ lập trình hướng đối tượng hiện đại, dễ học. Nó có một bộ dữ liệu tích hợp mạnh mẽ và cấu trúc điều khiển dễ sử dụng. Vì Python là một ngôn ngữ thông dịch, nó dễ dàng được xem xét nhất bằng cách chỉ cần xem và mô tả các phiên tương tác. Bạn nên nhớ rằng trình thông dịch hiển thị lời nhắc >>> quen thuộc và sau đó đánh giá cấu trúc Python mà bạn cung cấp. Ví dụ:"
   ]
  },
  {
   "cell_type": "code",
   "execution_count": 3,
   "metadata": {},
   "outputs": [
    {
     "name": "stdout",
     "output_type": "stream",
     "text": [
      "Algorithms and Data Structures\n"
     ]
    }
   ],
   "source": [
    "print(\"Algorithms and Data Structures\")"
   ]
  },
  {
   "cell_type": "code",
   "execution_count": null,
   "metadata": {},
   "outputs": [],
   "source": []
  }
 ],
 "metadata": {
  "kernelspec": {
   "display_name": "Python 3",
   "language": "python",
   "name": "python3"
  },
  "language_info": {
   "codemirror_mode": {
    "name": "ipython",
    "version": 3
   },
   "file_extension": ".py",
   "mimetype": "text/x-python",
   "name": "python",
   "nbconvert_exporter": "python",
   "pygments_lexer": "ipython3",
   "version": "3.8.2"
  }
 },
 "nbformat": 4,
 "nbformat_minor": 4
}
