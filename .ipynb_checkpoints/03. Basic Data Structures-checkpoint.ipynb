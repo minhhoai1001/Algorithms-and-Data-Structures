{
 "cells": [
  {
   "cell_type": "markdown",
   "metadata": {},
   "source": [
    "# 3. Basic Data Structures\n",
    "## 3.1. Objectives\n",
    "* To understand the abstract data types stack, queue, deque, and list.\n",
    "* To be able to implement the ADTs stack, queue, and deque using Python lists.\n",
    "* To understand the performance of the implementations of basic linear data structures.\n",
    "* To understand prefix, infix, and postfix expression formats.\n",
    "* To use stacks to evaluate postfix expressions.\n",
    "* To use stacks to convert expressions from infix to postfix.\n",
    "* To use queues for basic timing simulations.\n",
    "* To be able to recognize problem properties where stacks, queues, and deques are appropriate data structures.\n",
    "* To be able to implement the abstract data type list as a linked list using the node and reference pattern.\n",
    "* To be able to compare the performance of our linked list implementation with Python’s list implementation."
   ]
  },
  {
   "cell_type": "markdown",
   "metadata": {},
   "source": [
    "## 3.2 What Are Linear Structures?\n",
    "We will begin our study of data structures by considering four simple but very powerful concepts. **Stacks**, **queues**, **deques**, and **lists** are examples of data collections whose items are ordered depending on how they are added or removed. Once an item is added, it stays in that position relative to the other elements that came before and came after it. Collections such as these are often referred to as linear **data structures**.\n",
    "\n",
    "Linear structures can be thought of as having two ends. Sometimes these ends are referred to as the “*left*” and the “*right*” or in some cases the “*front*” and the “*rear*.” You could also call them the “*top*” and the “*bottom*.” The names given to the ends are not significant. What distinguishes one linear structure from another is the way in which items are added and removed, in particular the location where these additions and removals occur. For example, a structure might allow new items to be added at only one end. Some structures might allow items to be removed from either end."
   ]
  },
  {
   "cell_type": "markdown",
   "metadata": {},
   "source": [
    "## 3.3. What is a Stack?\n",
    "A **stack** (sometimes called a “push-down stack”) is an ordered collection of items where the addition of new items and the removal of existing items always takes place at the same end. This end is commonly referred to as the “top.” The end opposite the top is known as the “base.”\n",
    "\n",
    "The base of the stack is significant since items stored in the stack that are closer to the base represent those that have been in the stack the longest. The most recently added item is the one that is in position to be removed first. This ordering principle is sometimes called **LIFO**, **last-in first-out**. It provides an ordering based on length of time in the collection. Newer items are near the top, while older items are near the base.\n",
    "\n",
    "![stack](images/stack1.png)  ![stack](images/stack2.png)  "
   ]
  },
  {
   "cell_type": "markdown",
   "metadata": {},
   "source": [
    "One of the most useful ideas related to stacks comes from the simple observation of items as they are added and then removed. Assume you start out with a clean desktop. Now place books one at a time on top of each other. You are constructing a stack. Consider what happens when you begin removing books. The order that they are removed is exactly the reverse of the order that they were placed. Stacks are fundamentally important, as they can be used to reverse the order of items. The order of insertion is the reverse of the order of removal. Figure 3 shows the Python data object stack as it was created and then again as items are removed. "
   ]
  },
  {
   "cell_type": "markdown",
   "metadata": {},
   "source": [
    "## 3.4. The Stack Abstract Data Type\n",
    "The stack abstract data type is defined by the following structure and operations. A stack is structured, as described above, as an ordered collection of items where items are added to and removed from the end called the “top.” Stacks are ordered LIFO. The stack operations are given below.\n",
    "\n",
    "* `Stack()` creates a new stack that is empty. It needs no parameters and returns an empty stack.\n",
    "* `push(item)` adds a new item to the top of the stack. It needs the item and returns nothing.\n",
    "* `pop()` removes the top item from the stack. It needs no parameters and returns the item. The stack is modified.\n",
    "* `peek()` returns the top item from the stack but does not remove it. It needs no parameters. The stack is not modified.\n",
    "* `is_empty()` tests to see whether the stack is empty. It needs no parameters and returns a boolean value.\n",
    "* `size()` returns the number of items on the stack. It needs no parameters and returns an integer."
   ]
  },
  {
   "cell_type": "markdown",
   "metadata": {},
   "source": [
    "## 3.5. Implementing a Stack in Python\n",
    "As we described in Chapter 1, in Python, as in any object-oriented programming language, the implementation of choice for an abstract data type such as a stack is the creation of a new class. The stack operations are implemented as methods. Further, to implement a stack, which is a collection of elements, it makes sense to utilize the power and simplicity of the primitive collections provided by Python. We will use a list.\n",
    "\n",
    "Recall that the list class in Python provides an ordered collection mechanism and a set of methods. For example, if we have the list [2,5,3,6,7,4], we need only to decide which end of the list will be considered the top of the stack and which will be the base. Once that decision is made, the operations can be implemented using the list methods such as `append` and `pop`."
   ]
  },
  {
   "cell_type": "code",
   "execution_count": 1,
   "metadata": {},
   "outputs": [],
   "source": [
    "class Stack:\n",
    "    def __init__(self):\n",
    "         self.items = []\n",
    "\n",
    "    def is_empty(self):\n",
    "         return self.items == []\n",
    "\n",
    "    def push(self, item):\n",
    "         self.items.append(item)\n",
    "\n",
    "    def pop(self):\n",
    "         return self.items.pop()\n",
    "\n",
    "    def peek(self):\n",
    "         return self.items[len(self.items)-1]\n",
    "\n",
    "    def size(self):\n",
    "         return len(self.items)"
   ]
  },
  {
   "cell_type": "code",
   "execution_count": 2,
   "metadata": {},
   "outputs": [
    {
     "name": "stdout",
     "output_type": "stream",
     "text": [
      "True\n",
      "dog\n",
      "3\n",
      "False\n",
      "8.4\n",
      "True\n",
      "2\n"
     ]
    }
   ],
   "source": [
    "s=Stack()\n",
    "\n",
    "print(s.is_empty())\n",
    "s.push(4)\n",
    "s.push('dog')\n",
    "print(s.peek())\n",
    "s.push(True)\n",
    "print(s.size())\n",
    "print(s.is_empty())\n",
    "s.push(8.4)\n",
    "print(s.pop())\n",
    "print(s.pop())\n",
    "print(s.size())"
   ]
  },
  {
   "cell_type": "markdown",
   "metadata": {},
   "source": [
    "## 3.6. Simple Balanced Parentheses\n",
    "The challenge then is to write an algorithm that will read a string of parentheses from left to right and decide whether the symbols are balanced. To solve this problem we need to make an important observation. As you process symbols from left to right, the most recent opening parenthesis must match the next closing symbol (see Figure 4). Also, the first opening symbol processed may have to wait until the very last symbol for its match. Closing symbols match opening symbols in the reverse order of their appearance; they match from the inside out. This is a clue that stacks can be used to solve the problem.\n",
    "![](images/simpleparcheck.png)\n",
    "Starting with an empty stack, process the parenthesis strings from left to right. If a symbol is an opening parenthesis, push it on the stack as a signal that a corresponding closing symbol needs to appear later. If, on the other hand, a symbol is a closing parenthesis, pop the stack. As long as it is possible to pop the stack to match every closing symbol, the parentheses remain balanced. If at any time there is no opening symbol on the stack to match a closing symbol, the string is not balanced properly. At the end of the string, when all symbols have been processed, the stack should be empty."
   ]
  },
  {
   "cell_type": "code",
   "execution_count": 3,
   "metadata": {},
   "outputs": [
    {
     "name": "stdout",
     "output_type": "stream",
     "text": [
      "True\n",
      "True\n"
     ]
    }
   ],
   "source": [
    "def parChecker(symbolString):\n",
    "    s = Stack()\n",
    "    balanced = True\n",
    "    index = 0\n",
    "    while index < len(symbolString) and balanced:\n",
    "        symbol = symbolString[index]\n",
    "        if symbol == \"(\":\n",
    "            s.push(symbol)\n",
    "            \n",
    "        else:\n",
    "            if s.is_empty():\n",
    "                balanced = False\n",
    "            else:\n",
    "                s.pop()\n",
    "\n",
    "        index = index + 1\n",
    "\n",
    "    if balanced and s.is_empty():\n",
    "        return True\n",
    "    else:\n",
    "        return False\n",
    "\n",
    "print(parChecker('((()))'))\n",
    "print(parChecker('(()())'))"
   ]
  },
  {
   "cell_type": "markdown",
   "metadata": {},
   "source": [
    "This function, `parChecker`, assumes that a `Stack` class is available and returns a boolean result as to whether the string of parentheses is balanced. Note that the boolean variable `balanced` is initialized to True as there is no reason to assume otherwise at the start."
   ]
  },
  {
   "cell_type": "markdown",
   "metadata": {},
   "source": [
    "## 3.7. Balanced Symbols (A General Case)\n",
    "The balanced parentheses problem shown above is a specific case of a more general situation that arises in many programming languages. The general problem of balancing and nesting different kinds of opening and closing symbols occurs frequently. For example, in Python square brackets, `[` and `]`, are used for lists; curly braces, `{` and `}`, are used for dictionaries; and parentheses, `(` and `)`, are used for tuples and arithmetic expressions. It is possible to mix symbols as long as each maintains its own open and close relationship. \n",
    "\n",
    "Properly balanced in that not only does each opening symbol have a corresponding closing symbol, but the types of symbols match as well."
   ]
  },
  {
   "cell_type": "markdown",
   "metadata": {},
   "source": [
    "The simple parentheses checker from the previous section can easily be extended to handle these new types of symbols. Recall that each opening symbol is simply pushed on the stack to wait for the matching closing symbol to appear later in the sequence. When a closing symbol does appear, the only difference is that we must check to be sure that it correctly matches the type of the opening symbol on top of the stack. If the two symbols do not match, the string is not balanced. Once again, if the entire string is processed and nothing is left on the stack, the string is correctly balanced.\n",
    "\n",
    "The only change appears in line 16 where we call a helper function, matches, to assist with symbol-matching. Each symbol that is removed from the stack must be checked to see that it `matches` the current closing symbol. If a mismatch occurs, the boolean variable `balanced` is set to `False`."
   ]
  },
  {
   "cell_type": "code",
   "execution_count": 4,
   "metadata": {},
   "outputs": [
    {
     "name": "stdout",
     "output_type": "stream",
     "text": [
      "True\n",
      "False\n"
     ]
    }
   ],
   "source": [
    "def parChecker(symbolString):\n",
    "    s = Stack()\n",
    "    balanced = True\n",
    "    index = 0\n",
    "    while index < len(symbolString) and balanced:\n",
    "        symbol = symbolString[index]\n",
    "        if symbol in \"([{\":\n",
    "            s.push(symbol)\n",
    "        else:\n",
    "            if s.is_empty():\n",
    "                balanced = False\n",
    "            else:\n",
    "                top = s.pop()\n",
    "                if not matches(top,symbol):\n",
    "                       balanced = False\n",
    "        index = index + 1\n",
    "    if balanced and s.is_empty():\n",
    "        return True\n",
    "    else:\n",
    "        return False\n",
    "\n",
    "def matches(open,close):\n",
    "    opens = \"([{\"\n",
    "    closers = \")]}\"\n",
    "    return opens.index(open) == closers.index(close)\n",
    "\n",
    "\n",
    "print(parChecker('{{([][])}()}'))\n",
    "print(parChecker('[{()]'))"
   ]
  },
  {
   "cell_type": "markdown",
   "metadata": {},
   "source": [
    "These two examples show that **stacks** are very important **data structures** for the processing of language constructs in computer science. Almost any notation you can think of has some type of nested symbol that must be matched in a balanced order. There are a number of other important uses for stacks in computer science. We will continue to explore them in the next sections."
   ]
  },
  {
   "cell_type": "markdown",
   "metadata": {},
   "source": [
    "## 3.8. Converting Decimal Numbers to Binary Numbers\n",
    "In your study of computer science, you have probably been exposed in one way or another to the idea of a binary number. Binary representation is important in computer science since all values stored within a computer exist as a string of binary digits, a string of 0s and 1s. Without the ability to convert back and forth between common representations and binary numbers, we would need to interact with computers in very awkward ways.\n",
    "\n",
    "The Divide by 2 algorithm assumes that we start with an integer greater than 0. A simple iteration then continually divides the decimal number by 2 and keeps track of the remainder. The first division by 2 gives information as to whether the value is even or odd. An even value will have a remainder of 0. It will have the digit 0 in the ones place. An odd value will have a remainder of 1 and will have the digit 1 in the ones place. We think about building our binary number as a sequence of digits; the first remainder we compute will actually be the last digit in the sequence."
   ]
  },
  {
   "cell_type": "markdown",
   "metadata": {},
   "source": [
    "![](images/dectobin.png)"
   ]
  },
  {
   "cell_type": "code",
   "execution_count": 5,
   "metadata": {},
   "outputs": [
    {
     "name": "stdout",
     "output_type": "stream",
     "text": [
      "101010\n"
     ]
    }
   ],
   "source": [
    "def divideBy2(decNumber):\n",
    "    remstack = Stack()\n",
    "\n",
    "    while decNumber > 0:\n",
    "        rem = decNumber % 2\n",
    "        remstack.push(rem)\n",
    "        decNumber = decNumber // 2\n",
    "\n",
    "    binString = \"\"\n",
    "    while not remstack.is_empty():\n",
    "        binString = binString + str(remstack.pop())\n",
    "\n",
    "    return binString\n",
    "\n",
    "print(divideBy2(42))"
   ]
  },
  {
   "cell_type": "markdown",
   "metadata": {},
   "source": [
    "The algorithm for binary conversion can easily be extended to perform the conversion for any base. In computer science it is common to use a number of different encodings. The most common of these are binary, octal (base 8), and hexadecimal (base 16).\n",
    "\n",
    "The decimal number 233 and its corresponding octal and hexadecimal equivalents $351_8$ and $E9_{16}$ are interpreted as $3×82+5×81+1×80$ and $14×161+9×160$"
   ]
  },
  {
   "cell_type": "code",
   "execution_count": 6,
   "metadata": {},
   "outputs": [
    {
     "name": "stdout",
     "output_type": "stream",
     "text": [
      "11001\n",
      "19\n"
     ]
    }
   ],
   "source": [
    "def baseConverter(decNumber,base):\n",
    "    digits = \"0123456789ABCDEF\"\n",
    "\n",
    "    remstack = Stack()\n",
    "\n",
    "    while decNumber > 0:\n",
    "        rem = decNumber % base\n",
    "        remstack.push(rem)\n",
    "        decNumber = decNumber // base\n",
    "\n",
    "    newString = \"\"\n",
    "    while not remstack.is_empty():\n",
    "        newString = newString + digits[remstack.pop()]\n",
    "\n",
    "    return newString\n",
    "\n",
    "print(baseConverter(25,2))\n",
    "print(baseConverter(25,16))"
   ]
  },
  {
   "cell_type": "markdown",
   "metadata": {},
   "source": [
    "A solution to this problem is to extend the digit set to include some alphabet characters. For example, hexadecimal uses the ten decimal digits along with the first six alphabet characters for the 16 digits. To implement this, a digit string is created (line 4 in Listing 6) that stores the digits in their corresponding positions. 0 is at position 0, 1 is at position 1, A is at position 10, B is at position 11, and so on. When a remainder is removed from the stack, it can be used to index into the digit string and the correct resulting digit can be appended to the answer. For example, if the remainder 13 is removed from the stack, the digit D is appended to the resulting string."
   ]
  },
  {
   "cell_type": "markdown",
   "metadata": {},
   "source": [
    "## 3.9. Infix, Prefix and Postfix Expressions\n",
    "When you write an arithmetic expression such as $B * C$, the form of the expression provides you with information so that you can interpret it correctly. In this case we know that the variable $B$ is being multiplied by the variable $C$ since the multiplication operator * appears between them in the expression. This type of notation is referred to as **infix** since the operator is in between the two operands that it is working on."
   ]
  },
  {
   "cell_type": "markdown",
   "metadata": {},
   "source": [
    "In fact, you have been reading and writing these types of expressions for a long time and they do not cause you any problem. The reason for this is that you know something about the operators + and * . Each operator has a precedence level. Operators of higher precedence are used before operators of lower precedence. The only thing that can change that order is the presence of parentheses.\n",
    "\n",
    "Although all this may be obvious to you, remember that computers need to know exactly what operators to perform and in what order. One way to write an expression that guarantees there will be no confusion with respect to the order of operations is to create what is called a **fully parenthesized** expression. This type of expression uses one pair of parentheses for each operator. The parentheses dictate the order of operations; there is no ambiguity. There is also no need to remember any precedence rules."
   ]
  },
  {
   "cell_type": "markdown",
   "metadata": {},
   "source": [
    "These changes to the position of the operator with respect to the operands create two new expression formats, **prefix** and **postfix**. Prefix expression notation requires that all operators precede the two operands that they work on. Postfix, on the other hand, requires that its operators come after the corresponding operands. A few more examples should help to make this a bit clearer (see Table 2).\n",
    "\n",
    "| Infix Expression | Prefix Expression | Postfix Expression |\n",
    "|:----------------:|:-----------------:|:------------------:|\n",
    "| A + B            | + A B             | A B +              |\n",
    "| A + B * C        | + A * B C         | A B C * +          |"
   ]
  },
  {
   "cell_type": "markdown",
   "metadata": {},
   "source": [
    "### 3.9.1. Conversion of Infix Expressions to Prefix and Postfix\n",
    "The first technique that we will consider uses the notion of a fully parenthesized expression that was discussed earlier. Recall that $A + B * C$ can be written as $(A + (B * C))$ to show explicitly that the multiplication has precedence over the addition. On closer observation, however, you can see that each parenthesis pair also denotes the beginning and the end of an operand pair with the corresponding operator in the middle."
   ]
  },
  {
   "cell_type": "markdown",
   "metadata": {},
   "source": [
    "### 3.9.2. General Infix-to-Postfix Conversion\n",
    "Assume the infix expression is a string of tokens delimited by spaces. The operator tokens are *, /, +, and -, along with the left and right parentheses, ( and ). The operand tokens are the single-character identifiers A, B, C, and so on. The following steps will produce a string of tokens in postfix order.\n",
    "\n",
    "1. Create an empty stack called `opstack` for keeping operators. Create an empty list for output.\n",
    "2. Convert the input infix string to a list by using the string method `split`.\n",
    "3. Scan the token list from left to right.\n",
    "    * If the token is an operand, append it to the end of the output list.\n",
    "    * If the token is a left parenthesis, push it on the `opstack`.\n",
    "    * If the token is a right parenthesis, pop the `opstack` until the corresponding left parenthesis is removed. Append each operator to the end of the output list.\n",
    "    * If the token is an operator, *, /, +, or -, push it on the `opstack`. However, first remove any operators already on the `opstack `that have higher or equal precedence and append them to the output list.\n",
    "4. When the input expression has been completely processed, check the opstack. Any operators still on the stack can be removed and appended to the end of the output list.\n"
   ]
  },
  {
   "cell_type": "markdown",
   "metadata": {},
   "source": [
    "![](images/intopost.png)"
   ]
  },
  {
   "cell_type": "code",
   "execution_count": 7,
   "metadata": {},
   "outputs": [
    {
     "name": "stdout",
     "output_type": "stream",
     "text": [
      "A B * C D * +\n",
      "A B + C * D E - F G + * -\n"
     ]
    }
   ],
   "source": [
    "def infixToPostfix(infixexpr):\n",
    "    prec = {}\n",
    "    prec[\"*\"] = 3\n",
    "    prec[\"/\"] = 3\n",
    "    prec[\"+\"] = 2\n",
    "    prec[\"-\"] = 2\n",
    "    prec[\"(\"] = 1\n",
    "    opStack = Stack()\n",
    "    postfixList = []\n",
    "    tokenList = infixexpr.split()\n",
    "\n",
    "    for token in tokenList:\n",
    "        if token in \"ABCDEFGHIJKLMNOPQRSTUVWXYZ\" or token in \"0123456789\":\n",
    "            postfixList.append(token)\n",
    "        elif token == '(':\n",
    "            opStack.push(token)\n",
    "        elif token == ')':\n",
    "            topToken = opStack.pop()\n",
    "            while topToken != '(':\n",
    "                postfixList.append(topToken)\n",
    "                topToken = opStack.pop()\n",
    "        else:\n",
    "            while (not opStack.is_empty()) and \\\n",
    "               (prec[opStack.peek()] >= prec[token]):\n",
    "                  postfixList.append(opStack.pop())\n",
    "            opStack.push(token)\n",
    "\n",
    "    while not opStack.is_empty():\n",
    "        postfixList.append(opStack.pop())\n",
    "    return \" \".join(postfixList)\n",
    "\n",
    "print(infixToPostfix(\"A * B + C * D\"))\n",
    "print(infixToPostfix(\"( A + B ) * C - ( D - E ) * ( F + G )\"))"
   ]
  },
  {
   "cell_type": "markdown",
   "metadata": {},
   "source": [
    "### 3.9.3. Postfix Evaluation\n",
    "As a final stack example, we will consider the evaluation of an expression that is already in postfix notation. In this case, a stack is again the data structure of choice. However, as you scan the postfix expression, it is the operands that must wait, not the operators as in the conversion algorithm above. Another way to think about the solution is that whenever an operator is seen on the input, the two most recent operands will be used in the evaluation.\n",
    "\n",
    "To see this in more detail, consider the postfix expression 4 5 6 * +. As you scan the expression from left to right, you first encounter the operands 4 and 5. At this point, you are still unsure what to do with them until you see the next symbol. Placing each on the stack ensures that they are available if an operator comes next.\n",
    "\n",
    "We can now handle this result by placing it back on the stack so that it can be used as an operand for the later operators in the expression. When the final operator is processed, there will be only one value left on the stack. Pop and return it as the result of the expression. Figure 10 shows the stack contents as this entire example expression is being processed.\n",
    "\n",
    "![](images/evalpostfix1.png)"
   ]
  },
  {
   "cell_type": "markdown",
   "metadata": {},
   "source": [
    "Assume the postfix expression is a string of tokens delimited by spaces. The operators are *, /, +, and - and the operands are assumed to be single-digit integer values. The output will be an integer result.\n",
    "\n",
    "1. Create an empty stack called `operandStack`.\n",
    "2. Convert the string to a list by using the string method `split`.\n",
    "3. Scan the token list from left to right.\n",
    "    * If the token is an operand, convert it from a string to an integer and push the value onto the `operandStack`.\n",
    "    * If the token is an operator, *, /, +, or -, it will need two operands. Pop the `operandStack` twice. The first pop is the second operand and the second pop is the first operand. Perform the arithmetic operation. Push the result back on the `operandStack`.\n",
    "4. When the input expression has been completely processed, the result is on the stack. Pop the `operandStack` and return the value.\n",
    "\n",
    "The complete function for the evaluation of postfix expressions is shown in ActiveCode 2. To assist with the arithmetic, a helper function doMath is defined that will take two operands and an operator and then perform the proper arithmetic operation."
   ]
  },
  {
   "cell_type": "code",
   "execution_count": 8,
   "metadata": {},
   "outputs": [
    {
     "name": "stdout",
     "output_type": "stream",
     "text": [
      "3.0\n"
     ]
    }
   ],
   "source": [
    "def postfixEval(postfixExpr):\n",
    "    operandStack = Stack()\n",
    "    tokenList = postfixExpr.split()\n",
    "\n",
    "    for token in tokenList:\n",
    "        if token in \"0123456789\":\n",
    "            operandStack.push(int(token))\n",
    "        else:\n",
    "            operand2 = operandStack.pop()\n",
    "            operand1 = operandStack.pop()\n",
    "            result = doMath(token,operand1,operand2)\n",
    "            operandStack.push(result)\n",
    "    return operandStack.pop()\n",
    "\n",
    "def doMath(op, op1, op2):\n",
    "    if op == \"*\":\n",
    "        return op1 * op2\n",
    "    elif op == \"/\":\n",
    "        return op1 / op2\n",
    "    elif op == \"+\":\n",
    "        return op1 + op2\n",
    "    else:\n",
    "        return op1 - op2\n",
    "\n",
    "print(postfixEval('7 8 + 3 2 + /'))\n"
   ]
  },
  {
   "cell_type": "markdown",
   "metadata": {},
   "source": [
    "It is important to note that in both the postfix conversion and the postfix evaluation programs we assumed that there were no errors in the input expression. Using these programs as a starting point, you can easily see how error detection and reporting can be included. We leave this as an exercise at the end of the chapter."
   ]
  },
  {
   "cell_type": "markdown",
   "metadata": {},
   "source": [
    "## 3.10. What Is a Queue?\n",
    "A **queue** is an ordered collection of items where the addition of new items happens at one end, called the “rear,” and the removal of existing items occurs at the other end, commonly called the “front.” As an element enters the queue it starts at the rear and makes its way toward the front, waiting until that time when it is the next element to be removed.\n",
    "\n",
    "The most recently added item in the queue must wait at the end of the collection. The item that has been in the collection the longest is at the front. This ordering principle is sometimes called **FIFO, first-in first-out**. It is also known as “**first-come first-served**.”"
   ]
  },
  {
   "cell_type": "markdown",
   "metadata": {},
   "source": [
    "![](images/basicqueue.png)"
   ]
  },
  {
   "cell_type": "markdown",
   "metadata": {},
   "source": [
    "Computer science also has common examples of queues. Our computer laboratory has 30 computers networked with a single printer. When students want to print, their print tasks “get in line” with all the other printing tasks that are waiting. The first task in is the next to be completed. If you are last in line, you must wait for all the other tasks to print ahead of you. We will explore this interesting example in more detail later."
   ]
  },
  {
   "cell_type": "markdown",
   "metadata": {},
   "source": [
    "## 3.11. The Queue Abstract Data Type\n",
    "The queue abstract data type is defined by the following structure and operations. A queue is structured, as described above, as an ordered collection of items which are added at one end, called the “rear,” and removed from the other end, called the “front.” Queues maintain a FIFO ordering property. The queue operations are given below.\n",
    "\n",
    "* `Queue()` creates a new queue that is empty. It needs no parameters and returns an empty queue.\n",
    "* `enqueue(item)` adds a new item to the rear of the queue. It needs the item and returns nothing.\n",
    "* `dequeue()` removes the front item from the queue. It needs no parameters and returns the item. The queue is modified.\n",
    "* `isEmpty()` tests to see whether the queue is empty. It needs no parameters and returns a boolean value.\n",
    "* `size()` returns the number of items in the queue. It needs no parameters and returns an integer.\n"
   ]
  },
  {
   "cell_type": "markdown",
   "metadata": {},
   "source": [
    "|  Queue Operation   |   Queue Contents     | Return Value   |\n",
    "|:-------------------|:---------------------|:---------------|\n",
    "| `q.isEmpty()`      | `[]`                 | `True`         |\n",
    "| `q.enqueue(4)`     | `[4]`                |                |\n",
    "| `q.enqueue('dog')` | `['dog',4]`          |                |\n",
    "| `q.enqueue(True)`  | `[True,'dog',4]`     |                |\n",
    "| `q.size()`         | `[True,'dog',4]`     | `3`            |\n",
    "| `q.isEmpty()`      | `[True,'dog',4]`     | `False`        |\n",
    "| `q.enqueue(8.4)`   | `[8.4,True,'dog',4]` |                |\n",
    "| `q.dequeue()`      | `[8.4,True,'dog']`   | `4`            |\n",
    "| `q.dequeue()`      | `[8.4,True]`         | `'dog'`        |\n",
    "| `q.size()`         | `[8.4,True]`         | `2`            |"
   ]
  },
  {
   "cell_type": "markdown",
   "metadata": {},
   "source": [
    "## 3.12. Implementing a Queue in Python\n",
    "We need to decide which end of the list to use as the rear and which to use as the front. The implementation shown in Listing 1 assumes that the rear is at position 0 in the list. This allows us to use the `insert` function on lists to add new elements to the rear of the queue. The `pop` operation can be used to remove the front element (the last element of the list). Recall that this also means that enqueue will be $O(n)$ and dequeue will be $O(1)$."
   ]
  },
  {
   "cell_type": "code",
   "execution_count": 9,
   "metadata": {},
   "outputs": [
    {
     "name": "stdout",
     "output_type": "stream",
     "text": [
      "3\n",
      "False\n",
      "None\n",
      "4\n",
      "dog\n",
      "2\n"
     ]
    }
   ],
   "source": [
    "class Queue:\n",
    "    def __init__(self):\n",
    "        self.items = []\n",
    "\n",
    "    def isEmpty(self):\n",
    "        return self.items == []\n",
    "\n",
    "    def enqueue(self, item):\n",
    "        self.items.insert(0,item)\n",
    "\n",
    "    def dequeue(self):\n",
    "        return self.items.pop()\n",
    "\n",
    "    def size(self):\n",
    "        return len(self.items)\n",
    "    \n",
    "q=Queue()\n",
    "\n",
    "q.enqueue(4)\n",
    "q.enqueue('dog')\n",
    "q.enqueue(True)\n",
    "print(q.size())\n",
    "print(q.isEmpty())\n",
    "print(q.enqueue(8.4))\n",
    "print(q.dequeue())\n",
    "print(q.dequeue())\n",
    "print(q.size())"
   ]
  },
  {
   "cell_type": "markdown",
   "metadata": {},
   "source": [
    "## 3.13. Simulation: Hot Potato\n",
    "One of the typical applications for showing a queue in action is to simulate a real situation that requires data to be managed in a **FIFO** manner. To begin, let’s consider the children’s game Hot Potato. In this game (see Figure 2) children line up in a circle and pass an item from neighbor to neighbor as fast as they can. At a certain point in the game, the action is stopped and the child who has the item (the potato) is removed from the circle. Play continues until only one child is left.\n",
    "![](images/hotpotato.png)"
   ]
  },
  {
   "cell_type": "markdown",
   "metadata": {},
   "source": [
    "We will implement a general **simulation** of Hot Potato. Our program will input a list of names and a constant, call it “num,” to be used for counting. It will return the name of the last person remaining after repetitive counting by `num`. What happens at that point is up to you."
   ]
  },
  {
   "cell_type": "code",
   "execution_count": 10,
   "metadata": {},
   "outputs": [
    {
     "name": "stdout",
     "output_type": "stream",
     "text": [
      "Susan\n"
     ]
    }
   ],
   "source": [
    "def hotPotato(namelist, num):\n",
    "    simqueue = Queue()\n",
    "    for name in namelist:\n",
    "        simqueue.enqueue(name)\n",
    "\n",
    "    while simqueue.size() > 1:\n",
    "        for i in range(num):\n",
    "            simqueue.enqueue(simqueue.dequeue())\n",
    "\n",
    "        simqueue.dequeue()\n",
    "\n",
    "    return simqueue.dequeue()\n",
    "\n",
    "print(hotPotato([\"Bill\",\"David\",\"Susan\",\"Jane\",\"Kent\",\"Brad\"],7))\n"
   ]
  },
  {
   "cell_type": "markdown",
   "metadata": {},
   "source": [
    "## 3.14. Simulation: Printing Tasks\n",
    "A more interesting simulation allows us to study the behavior of the printing queue described earlier in this section. Recall that as students send printing tasks to the shared printer, the tasks are placed in a queue to be processed in a first-come first-served manner.\n",
    "\n",
    "Consider the following situation in a computer science laboratory. On any average day about 10 students are working in the lab at any given hour. These students typically print up to twice during that time, and the length of these tasks ranges from 1 to 20 pages. The printer in the lab is older, capable of processing 10 pages per minute of draft quality. The printer could be switched to give better quality, but then it would produce only five pages per minute. The slower printing speed could make students wait too long. What page rate should be used?\n",
    "\n",
    "![](images/simulationsetup.png)"
   ]
  },
  {
   "cell_type": "markdown",
   "metadata": {},
   "source": [
    "To model this situation we need to use some probabilities. For example, students may print a paper from 1 to 20 pages in length. If each length from 1 to 20 is equally likely, the actual length for a print task can be simulated by using a random number between 1 and 20 inclusive. This means that there is equal chance of any length from 1 to 20 appearing.\n",
    "\n",
    "If there are 10 students in the lab and each prints twice, then there are 20 print tasks per hour on average. There will be one task every 180 seconds:"
   ]
  },
  {
   "cell_type": "markdown",
   "metadata": {},
   "source": [
    "### 3.14.1. Main Simulation Steps\n",
    "Here is the main simulation.\n",
    "\n",
    "1. Create a queue of print tasks. Each task will be given a timestamp upon its arrival. The queue is empty to start.\n",
    "2. For each second (`currentSecond`):\n",
    "    * Does a new print task get created? If so, add it to the queue with the `currentSecond` as the timestamp.\n",
    "    * If the printer is not busy and if a task is waiting,\n",
    "        - Remove the next task from the print queue and assign it to the printer.\n",
    "        - Subtract the timestamp from the `currentSecond` to compute the waiting time for that task.\n",
    "        - Append the waiting time for that task to a list for later processing.\n",
    "        - Based on the number of pages in the print task, figure out how much time will be required.\n",
    "    * The printer now does one second of printing if necessary. It also subtracts one second from the time required for that task.\n",
    "    * If the task has been completed, in other words the time required has reached zero, the printer is no longer busy.\n",
    "3. After the simulation is complete, compute the average waiting time from the list of waiting times generated.\n"
   ]
  },
  {
   "cell_type": "markdown",
   "metadata": {},
   "source": [
    "### 3.14.2. Python Implementation\n",
    "To design this simulation we will create classes for the three real-world objects described above: `Printer`, `Task`, and `PrintQueue`.\n",
    "\n",
    "The `Printer` class will need to track whether it has a current task. If it does, then it is busy (lines 13–17) and the amount of time needed can be computed from the number of pages in the task. The constructor will also allow the pages-per-minute setting to be initialized. The `tick` method decrements the internal timer and sets the printer to idle (line 11) if the task is completed."
   ]
  },
  {
   "cell_type": "code",
   "execution_count": 11,
   "metadata": {},
   "outputs": [],
   "source": [
    "class Printer:\n",
    "    def __init__(self, ppm):\n",
    "        self.pagerate = ppm\n",
    "        self.currentTask = None\n",
    "        self.timeRemaining = 0\n",
    "\n",
    "    def tick(self):\n",
    "        if self.currentTask != None:\n",
    "            self.timeRemaining = self.timeRemaining - 1\n",
    "            if self.timeRemaining <= 0:\n",
    "                self.currentTask = None\n",
    "\n",
    "    def busy(self):\n",
    "        if self.currentTask != None:\n",
    "            return True\n",
    "        else:\n",
    "            return False\n",
    "\n",
    "    def startNext(self,newtask):\n",
    "        self.currentTask = newtask\n",
    "        self.timeRemaining = newtask.getPages() * 60/self.pagerate"
   ]
  },
  {
   "cell_type": "markdown",
   "metadata": {},
   "source": [
    "Each task will also need to keep a timestamp to be used for computing waiting time. This timestamp will represent the time that the task was created and placed in the printer queue. The `waitTime` method can then be used to retrieve the amount of time spent in the queue before printing begins."
   ]
  },
  {
   "cell_type": "code",
   "execution_count": 12,
   "metadata": {},
   "outputs": [],
   "source": [
    "import random\n",
    "\n",
    "class Task:\n",
    "    def __init__(self,time):\n",
    "        self.timestamp = time\n",
    "        self.pages = random.randrange(1,21)\n",
    "\n",
    "    def getStamp(self):\n",
    "        return self.timestamp\n",
    "\n",
    "    def getPages(self):\n",
    "        return self.pages\n",
    "\n",
    "    def waitTime(self, currenttime):\n",
    "        return currenttime - self.timestamp"
   ]
  },
  {
   "cell_type": "markdown",
   "metadata": {},
   "source": [
    "The `printQueue` object is an instance of our existing queue ADT. A boolean helper function, `newPrintTask`, decides whether a new printing task has been created. We have again chosen to use the `randrange` function from the `random` module to return a random integer between 1 and 180. Print tasks arrive once every 180 seconds. By arbitrarily choosing 180 from the range of random integers, we can simulate this random event. The simulation function allows us to set the total time and the pages per minute for the printer."
   ]
  },
  {
   "cell_type": "code",
   "execution_count": 13,
   "metadata": {},
   "outputs": [
    {
     "name": "stdout",
     "output_type": "stream",
     "text": [
      "Average Wait 196.19 secs   1 tasks remaining.\n",
      "Average Wait  28.44 secs   2 tasks remaining.\n",
      "Average Wait  65.67 secs   1 tasks remaining.\n",
      "Average Wait  66.72 secs   0 tasks remaining.\n",
      "Average Wait 213.53 secs   0 tasks remaining.\n",
      "Average Wait 105.76 secs   5 tasks remaining.\n",
      "Average Wait 415.32 secs   3 tasks remaining.\n",
      "Average Wait  56.36 secs   0 tasks remaining.\n",
      "Average Wait  64.50 secs   1 tasks remaining.\n",
      "Average Wait 137.27 secs   0 tasks remaining.\n"
     ]
    }
   ],
   "source": [
    "import random\n",
    "\n",
    "def simulation(numSeconds, pagesPerMinute):\n",
    "\n",
    "    labprinter = Printer(pagesPerMinute)\n",
    "    printQueue = Queue()\n",
    "    waitingtimes = []\n",
    "\n",
    "    for currentSecond in range(numSeconds):\n",
    "\n",
    "        if newPrintTask():\n",
    "            task = Task(currentSecond)\n",
    "            printQueue.enqueue(task)\n",
    "\n",
    "        if (not labprinter.busy()) and (not printQueue.isEmpty()):\n",
    "            nexttask = printQueue.dequeue()\n",
    "            waitingtimes.append(nexttask.waitTime(currentSecond))\n",
    "            labprinter.startNext(nexttask)\n",
    "\n",
    "        labprinter.tick()\n",
    "\n",
    "    averageWait=sum(waitingtimes)/len(waitingtimes)\n",
    "    print(\"Average Wait %6.2f secs %3d tasks remaining.\"%(averageWait,printQueue.size()))\n",
    "\n",
    "def newPrintTask():\n",
    "    num = random.randrange(1,181)\n",
    "    if num == 180:\n",
    "        return True\n",
    "    else:\n",
    "        return False\n",
    "\n",
    "for i in range(10):\n",
    "    simulation(3600,5)"
   ]
  },
  {
   "cell_type": "markdown",
   "metadata": {},
   "source": [
    "First, we will run the simulation for a period of 60 minutes (3,600 seconds) using a page rate of five pages per minute. In addition, we will run 10 independent trials. Remember that because the simulation works with random numbers each run will return different results."
   ]
  },
  {
   "cell_type": "markdown",
   "metadata": {},
   "source": [
    "### 3.14.3. Discussion\n",
    "This type of simulation analysis allows us to answer many questions, commonly known as “what if” questions. All we need to do is vary the parameters used by the simulation and we can simulate any number of interesting behaviors. For example,\n",
    "\n",
    "* What if enrollment goes up and the average number of students increases by 20?\n",
    "* What if it is Saturday and students are not needing to get to class? Can they afford to wait?\n",
    "* What if the size of the average print task decreases since Python is such a powerful language and programs tend to be much shorter?\n",
    "\n",
    "These questions could all be answered by modifying the above simulation. However, it is important to remember that the simulation is only as good as the assumptions that are used to build it. Real data about the number of print tasks per hour and the number of students per hour was necessary to construct a robust simulation."
   ]
  },
  {
   "cell_type": "markdown",
   "metadata": {},
   "source": [
    "## 3.15. What Is a Deque?\n",
    "A **deque**, also known as a double-ended queue, is an ordered collection of items similar to the queue. It has two ends, a front and a rear, and the items remain positioned in the collection. What makes a deque different is the unrestrictive nature of adding and removing items. New items can be added at either the front or the rear. Likewise, existing items can be removed from either end. In a sense, this hybrid linear structure provides all the capabilities of stacks and queues in a single data structure. Figure 1 shows a deque of Python data objects.\n",
    "\n",
    "It is important to note that even though the deque can assume many of the characteristics of stacks and queues, it does not require the LIFO and FIFO orderings that are enforced by those data structures. It is up to you to make consistent use of the addition and removal operations.\n",
    "![](images/basicdeque.png)"
   ]
  },
  {
   "cell_type": "markdown",
   "metadata": {},
   "source": [
    "## 3.16. The Deque Abstract Data Type\n",
    "The deque abstract data type is defined by the following structure and operations. A deque is structured, as described above, as an ordered collection of items where items are added and removed from either end, either front or rear. The deque operations are given below.\n",
    "\n",
    "* `Deque()` creates a new deque that is empty. It needs no parameters and returns an empty deque.\n",
    "* `addFront(item)` adds a new item to the front of the deque. It needs the item and returns nothing.\n",
    "* `addRear(item)` adds a new item to the rear of the deque. It needs the item and returns nothing.\n",
    "* `removeFront()` removes the front item from the deque. It needs no parameters and returns the item. The deque is modified.\n",
    "* `removeRear()` removes the rear item from the deque. It needs no parameters and returns the item. The deque is modified.\n",
    "* `isEmpty()` tests to see whether the deque is empty. It needs no parameters and returns a boolean value.\n",
    "* `size()` returns the number of items in the deque. It needs no parameters and returns an integer."
   ]
  },
  {
   "cell_type": "markdown",
   "metadata": {},
   "source": [
    "| Deque Operation     | Deque Contents             | Return Value   |\n",
    "|:--------------------|:---------------------------|:---------------|\n",
    "| `d.isEmpty()`       | `[]`                       | `True `        |\n",
    "| `d.addRear(4)`      | `[4]`                      |                |\n",
    "| `d.addRear('dog')`  | `['dog',4,]`               |                |\n",
    "| `d.addFront('cat')` | `['dog',4,'cat'] `         |                |\n",
    "| `d.addFront(True)`  | `['dog',4,'cat',True]`     |                |\n",
    "| `d.size()`          | `['dog',4,'cat',True]`     | `4`            |\n",
    "| `d.isEmpty()`       | `['dog',4,'cat',True]`     | `False`        |\n",
    "| `d.addRear(8.4)`    | `[8.4,'dog',4,'cat',True]` |                |\n",
    "| `d.removeRear()`    | `['dog',4,'cat',True]`     | `8.4 `         |\n",
    "| `d.removeFront()`   | `['dog',4,'cat']`          | `True`         |"
   ]
  },
  {
   "cell_type": "markdown",
   "metadata": {},
   "source": [
    "## 3.17. Implementing a Deque in Python\n",
    "As we have done in previous sections, we will create a new class for the implementation of the abstract data type deque. Again, the Python list will provide a very nice set of methods upon which to build the details of the deque. Our implementation will assume that the rear of the deque is at position 0 in the list."
   ]
  },
  {
   "cell_type": "code",
   "execution_count": 16,
   "metadata": {},
   "outputs": [
    {
     "name": "stdout",
     "output_type": "stream",
     "text": [
      "True\n",
      "4\n",
      "False\n",
      "8.4\n",
      "True\n"
     ]
    }
   ],
   "source": [
    "class Deque:\n",
    "    def __init__(self):\n",
    "        self.items = []\n",
    "\n",
    "    def isEmpty(self):\n",
    "        return self.items == []\n",
    "\n",
    "    def addFront(self, item):\n",
    "        self.items.append(item)\n",
    "\n",
    "    def addRear(self, item):\n",
    "        self.items.insert(0,item)\n",
    "\n",
    "    def removeFront(self):\n",
    "        return self.items.pop()\n",
    "\n",
    "    def removeRear(self):\n",
    "        return self.items.pop(0)\n",
    "\n",
    "    def size(self):\n",
    "        return len(self.items)\n",
    "    \n",
    "d=Deque()\n",
    "print(d.isEmpty())\n",
    "d.addRear(4)\n",
    "d.addRear('dog')\n",
    "d.addFront('cat')\n",
    "d.addFront(True)\n",
    "print(d.size())\n",
    "print(d.isEmpty())\n",
    "d.addRear(8.4)\n",
    "print(d.removeRear())\n",
    "print(d.removeFront())"
   ]
  },
  {
   "cell_type": "markdown",
   "metadata": {},
   "source": [
    "In `removeFront` we use the `pop` method to remove the last element from the list. However, in `removeRear`, the `pop(0)` method must remove the first element of the list. Likewise, we need to use the `insert` method in `addRear` since the `append` method assumes the addition of a new element to the end of the list."
   ]
  },
  {
   "cell_type": "markdown",
   "metadata": {},
   "source": [
    "## 3.18. Palindrome-Checker\n",
    "An interesting problem that can be easily solved using the deque data structure is the classic **palindrome** problem. A palindrome is a string that reads the same forward and backward, for example, radar, toot, and madam. We would like to construct an algorithm to input a string of characters and check whether it is a palindrome.\n",
    "\n",
    "The solution to this problem will use a deque to store the characters of the string. We will process the string from left to right and add each character to the rear of the deque. At this point, the deque will be acting very much like an ordinary queue. However, we can now make use of the dual functionality of the deque. The front of the deque will hold the first character of the string and the rear of the deque will hold the last character\n",
    "\n",
    "![](images/palindromesetup.png)"
   ]
  },
  {
   "cell_type": "markdown",
   "metadata": {},
   "source": [
    "Since we can remove both of them directly, we can compare them and continue only if they match. If we can keep matching first and the last items, we will eventually either run out of characters or be left with a deque of size 1 depending on whether the length of the original string was even or odd. In either case, the string must be a palindrome."
   ]
  },
  {
   "cell_type": "code",
   "execution_count": 17,
   "metadata": {},
   "outputs": [
    {
     "name": "stdout",
     "output_type": "stream",
     "text": [
      "False\n",
      "True\n"
     ]
    }
   ],
   "source": [
    "def palchecker(aString):\n",
    "    chardeque = Deque()\n",
    "\n",
    "    for ch in aString:\n",
    "        chardeque.addRear(ch)\n",
    "\n",
    "    stillEqual = True\n",
    "\n",
    "    while chardeque.size() > 1 and stillEqual:\n",
    "        first = chardeque.removeFront()\n",
    "        last = chardeque.removeRear()\n",
    "        if first != last:\n",
    "            stillEqual = False\n",
    "\n",
    "    return stillEqual\n",
    "\n",
    "print(palchecker(\"lsdkjfskf\"))\n",
    "print(palchecker(\"radar\"))\n"
   ]
  },
  {
   "cell_type": "markdown",
   "metadata": {},
   "source": [
    "## 3.19. Lists\n",
    "Throughout the discussion of basic data structures, we have used Python lists to implement the abstract data types presented. The list is a powerful, yet simple, collection mechanism that provides the programmer with a wide variety of operations. However, not all programming languages include a list collection. In these cases, the notion of a list must be implemented by the programmer.\n",
    "\n",
    "A list is a collection of items where each item holds a relative position with respect to the others. More specifically, we will refer to this type of list as an unordered list. We can consider the list as having a first item, a second item, a third item, and so on. We can also refer to the beginning of the list (the first item) or the end of the list (the last item). For simplicity we will assume that lists cannot contain duplicate items.\n",
    "\n",
    "For example, the collection of integers 54, 26, 93, 17, 77, and 31 might represent a simple unordered list of exam scores. Note that we have written them as comma-delimited values, a common way of showing the list structure. Of course, Python would show this list as [54,26,93,17,77,31]."
   ]
  },
  {
   "cell_type": "markdown",
   "metadata": {},
   "source": [
    "## 3.20. The Unordered List Abstract Data Type\n",
    "The structure of an unordered list, as described above, is a collection of items where each item holds a relative position with respect to the others. Some possible unordered list operations are given below.\n",
    "\n",
    "* `List()` creates a new list that is empty. It needs no parameters and returns an empty list.\n",
    "* `add(item)` adds a new item to the list. It needs the item and returns nothing. Assume the item is not already in the list.\n",
    "* `remove(item)` removes the item from the list. It needs the item and modifies the list. Assume the item is present in the list.\n",
    "* `search(item)` searches for the item in the list. It needs the item and returns a boolean value.\n",
    "* `isEmpty()` tests to see whether the list is empty. It needs no parameters and returns a boolean value.\n",
    "* `size()` returns the number of items in the list. It needs no parameters and returns an integer.\n",
    "* `append(item)` adds a new item to the end of the list making it the last item in the collection. It needs the item and returns nothing. Assume the item is not already in the list.\n",
    "* `index(item)` returns the position of item in the list. It needs the item and returns the index. Assume the item is in the list.\n",
    "* `insert(pos,item`) adds a new item to the list at position pos. It needs the item and returns nothing. Assume the item is not already in the list and there are enough existing items to have position pos.\n",
    "* `pop()` removes and returns the last item in the list. It needs nothing and returns an item. Assume the list has at least one item.\n",
    "* `pop(pos)` removes and returns the item at position pos. It needs the position and returns the item. Assume the item is in the list."
   ]
  },
  {
   "cell_type": "markdown",
   "metadata": {},
   "source": [
    "## 3.21. Implementing an Unordered List: Linked Lists\n",
    "In order to implement an unordered list, we will construct what is commonly known as a linked list. Recall that we need to be sure that we can maintain the relative positioning of the items. However, there is no requirement that we maintain that positioning in contiguous memory. For example, consider the collection of items shown in Figure 1. It appears that these values have been placed randomly. If we can maintain some explicit information in each item, namely the location of the next item (see Figure 2), then the relative position of each item can be expressed by simply following the link from one item to the next.\n",
    "\n",
    "![](images/idea2.png)\n",
    "\n",
    "It i.png) important to note that the location of the first item of the list must be explicitly specified. Once we know where the first item is, the first item can tell us where the second is, and so on. The external reference is often referred to as the head of the list. Similarly, the last item needs to know that there is no next item."
   ]
  },
  {
   "cell_type": "markdown",
   "metadata": {},
   "source": [
    "### 3.21.1. The <font color='red'>Node</font> Class\n",
    "The basic building block for the linked list implementation is the **node**. Each node object must hold at least two pieces of information. First, the node must contain the list item itself. We will call this the **data field** of the node. In addition, each node must hold a reference to the next node. To construct a node, you need to supply the initial data value for the node. Evaluating the assignment statement below will yield a node object containing the value. The `Node` class also includes the usual methods to access and modify the data and the next reference."
   ]
  },
  {
   "cell_type": "code",
   "execution_count": 20,
   "metadata": {},
   "outputs": [
    {
     "data": {
      "text/plain": [
       "93"
      ]
     },
     "execution_count": 20,
     "metadata": {},
     "output_type": "execute_result"
    }
   ],
   "source": [
    "class Node:\n",
    "    def __init__(self,initdata):\n",
    "        self.data = initdata\n",
    "        self.next = None\n",
    "\n",
    "    def getData(self):\n",
    "        return self.data\n",
    "\n",
    "    def getNext(self):\n",
    "        return self.next\n",
    "\n",
    "    def setData(self,newdata):\n",
    "        self.data = newdata\n",
    "\n",
    "    def setNext(self,newnext):\n",
    "        self.next = newnext\n",
    "        \n",
    "temp = Node(93)\n",
    "temp.getData()"
   ]
  },
  {
   "cell_type": "markdown",
   "metadata": {},
   "source": [
    "### 3.21.2. The <font color='red'>Unordered List</font> Class\n",
    "As we suggested above, the unordered list will be built from a collection of nodes, each linked to the next by explicit references. As long as we know where to find the first node (containing the first item), each item after that can be found by successively following the next links. With this in mind, the `UnorderedList` class must maintain a reference to the first node."
   ]
  },
  {
   "cell_type": "code",
   "execution_count": 21,
   "metadata": {},
   "outputs": [],
   "source": [
    "class UnorderedList:\n",
    "\n",
    "    def __init__(self):\n",
    "        self.head = None"
   ]
  },
  {
   "cell_type": "code",
   "execution_count": null,
   "metadata": {},
   "outputs": [],
   "source": []
  }
 ],
 "metadata": {
  "kernelspec": {
   "display_name": "Python 3",
   "language": "python",
   "name": "python3"
  },
  "language_info": {
   "codemirror_mode": {
    "name": "ipython",
    "version": 3
   },
   "file_extension": ".py",
   "mimetype": "text/x-python",
   "name": "python",
   "nbconvert_exporter": "python",
   "pygments_lexer": "ipython3",
   "version": "3.8.3"
  }
 },
 "nbformat": 4,
 "nbformat_minor": 4
}
