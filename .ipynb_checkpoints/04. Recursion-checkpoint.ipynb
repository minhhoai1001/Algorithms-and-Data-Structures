{
 "cells": [
  {
   "cell_type": "markdown",
   "metadata": {},
   "source": [
    "# 4. Recursion\n",
    "\n",
    "## 4.1. Objectives\n",
    "The goals for this chapter are as follows:\n",
    "\n",
    "* To understand that complex problems that may otherwise be difficult to solve may have a simple recursive solution.\n",
    "* To learn how to formulate programs recursively.\n",
    "* To understand and apply the three laws of recursion.\n",
    "* To understand recursion as a form of iteration.\n",
    "* To implement the recursive formulation of a problem.\n",
    "* To understand how recursion is implemented by a computer system.\n",
    "\n",
    "## 4.2. What Is Recursion?\n",
    "**Recursion** is a method of solving problems that involves breaking a problem down into smaller and smaller subproblems until you get to a small enough problem that it can be solved trivially. Usually recursion involves a function calling itself. While it may not seem like much on the surface, recursion allows us to write elegant solutions to problems that may otherwise be very difficult to program."
   ]
  },
  {
   "cell_type": "markdown",
   "metadata": {},
   "source": [
    "## 4.3. Calculating the Sum of a List of Numbers\n",
    "We will begin our investigation with a simple problem that you already know how to solve without using recursion. Suppose that you want to calculate the sum of a list of numbers such as: [1,3,5,7,9]. An iterative function that computes the sum is shown in ActiveCode 1. The function uses an accumulator variable (`theSum`) to compute a running total of all the numbers in the list by starting with 0 and adding each number in the list."
   ]
  },
  {
   "cell_type": "code",
   "execution_count": 1,
   "metadata": {},
   "outputs": [
    {
     "name": "stdout",
     "output_type": "stream",
     "text": [
      "25\n"
     ]
    }
   ],
   "source": [
    "def listsum(numList):\n",
    "    theSum = 0\n",
    "    for i in numList:\n",
    "        theSum = theSum + i\n",
    "    return theSum\n",
    "\n",
    "print(listsum([1,3,5,7,9]))"
   ]
  },
  {
   "cell_type": "markdown",
   "metadata": {},
   "source": [
    "Pretend for a minute that you do not have `while` loops or `for` loops. How would you compute the sum of a list of numbers? If you were a mathematician you might start by recalling that addition is a function that is defined for two parameters, a pair of numbers. To redefine the problem from adding a list to adding pairs of numbers, we could rewrite the list as a fully parenthesized expression. Such an expression looks like this:\n",
    "\n",
    "<center>$((((1 + 3) + 5) + 7) + 9)$</center>\n",
    "    \n",
    "We can also parenthesize the expression the other way around,\n",
    "\n",
    "<center>$(1 + (3 + (5 + (7 + 9))))$</center>\n",
    "\n",
    "Notice that the innermost set of parentheses, $(7+9)$, is a problem that we can solve without a loop or any special constructs. In fact, we can use the following sequence of simplifications to compute a final sum.\n",
    "\n",
    "<center>$\\begin{split}total = \\  (1 + (3 + (5 + (7 + 9)))) \\\\\n",
    "total = \\  (1 + (3 + (5 + 16))) \\\\\n",
    "total = \\  (1 + (3 + 21)) \\\\\n",
    "total = \\  (1 + 24) \\\\\n",
    "total = \\  25\\end{split}$</center>"
   ]
  },
  {
   "cell_type": "markdown",
   "metadata": {},
   "source": [
    "How can we take this idea and turn it into a Python program? First, let’s restate the sum problem in terms of Python lists. We might say the the sum of the list `numList` is the sum of the first element of the list (`numList[0]`), and the sum of the numbers in the rest of the list (`numList[1:]`). To state it in a functional form:\n",
    "\n",
    "<center>$listSum(numList) = first(numList) + listSum(rest(numList))\n",
    "\\label{eqn:listsum}$</center>"
   ]
  },
  {
   "cell_type": "code",
   "execution_count": 2,
   "metadata": {},
   "outputs": [
    {
     "name": "stdout",
     "output_type": "stream",
     "text": [
      "25\n"
     ]
    }
   ],
   "source": [
    "def listsum(numList):\n",
    "    if len(numList) == 1:\n",
    "        return numList[0]\n",
    "    else:\n",
    "        return numList[0] + listsum(numList[1:])\n",
    "\n",
    "print(listsum([1,3,5,7,9]))"
   ]
  },
  {
   "cell_type": "markdown",
   "metadata": {},
   "source": [
    "Figure 1 shows the series of recursive calls that are needed to sum the list $[1,3,5,7,9]$. You should think of this series of calls as a series of simplifications. Each time we make a recursive call we are solving a smaller problem, until we reach the point where the problem cannot get any smaller.\n",
    "\n",
    "![](images/sumlistIn.png)"
   ]
  },
  {
   "cell_type": "markdown",
   "metadata": {},
   "source": [
    "When we reach the point where the problem is as simple as it can get, we begin to piece together the solutions of each of the small problems until the initial problem is solved. Figure 2 shows the additions that are performed as `listsum` works its way backward through the series of calls. When `listsum` returns from the topmost problem, we have the solution to the whole problem.\n",
    "\n",
    "![](images/sumlistOut.png)"
   ]
  },
  {
   "cell_type": "markdown",
   "metadata": {},
   "source": [
    "## 4.4. The Three Laws of Recursion\n",
    "Like the robots of Asimov, all recursive algorithms must obey three important laws:\n",
    "\n",
    "* A recursive algorithm must have a **base case**.\n",
    "* A recursive algorithm must change its state and move toward the base case.\n",
    "* A recursive algorithm must call itself, recursively.\n",
    "\n",
    "Let’s look at each one of these laws in more detail and see how it was used in the `listsum` algorithm. First, a base case is the condition that allows the algorithm to stop recursing.\n",
    "\n",
    "To obey the second law, we must arrange for a change of state that moves the algorithm toward the base case. A change of state means that some data that the algorithm is using is modified. Usually the data that represents our problem gets smaller in some way. In the `listsum` algorithm our primary data structure is a list, so we must focus our state-changing efforts on the list.\n",
    "\n",
    "The final law is that the algorithm must call itself. This is the very definition of recursion. Recursion is a confusing concept to many beginning programmers. As a novice programmer, you have learned that functions are good because you can take a large problem and break it up into smaller problems. The smaller problems can be solved by writing a function to solve each problem. When we talk about recursion it may seem that we are talking ourselves in circles. We have a problem to solve with a function, but that function solves the problem by calling itself! But the logic is not circular at all; the logic of recursion is an elegant expression of solving a problem by breaking it down into a smaller and easier problems."
   ]
  },
  {
   "cell_type": "markdown",
   "metadata": {},
   "source": [
    "## 4.5. Converting an Integer to a String in Any Base\n",
    "Suppose you want to convert an integer to a string in some base between binary and hexadecimal. For example, convert the integer 10 to its string representation in decimal as `\"10\"`, or to its string representation in binary as `\"1010\"`. While there are many algorithms to solve this problem, including the algorithm discussed in the stack section, the recursive formulation of the problem is very elegant.\n",
    "\n",
    "Let’s look at a concrete example using base 10 and the number 769. Suppose we have a sequence of characters corresponding to the first 10 digits, like `convString = \"0123456789\"`. It is easy to convert a number less than 10 to its string equivalent by looking it up in the sequence. For example, if the number is 9, then the string is `convString[9]` or `\"9\"`. If we can arrange to break up the number 769 into three single-digit numbers, 7, 6, and 9, then converting it to a string is simple. A number less than 10 sounds like a good base case.\n",
    "\n",
    "Knowing what our base is suggests that the overall algorithm will involve three components:\n",
    "\n",
    "1. Reduce the original number to a series of single-digit numbers.\n",
    "2. Convert the single digit-number to a string using a lookup.\n",
    "3. Concatenate the single-digit strings together to form the final result.\n",
    "\n",
    "Using integer division to divide 769 by 10, we get 76 with a remainder of 9. This gives us two good results. First, the remainder is a number less than our base that can be converted to a string immediately by lookup. Second, we get a number that is smaller than our original and moves us toward the base case of having a single number less than our base. Now our job is to convert 76 to its string representation. Again we will use integer division plus remainder to get results of 7 and 6 respectively. Finally, we have reduced the problem to converting 7, which we can do easily since it satisfies the base case condition of n<base, where base=10. The series of operations we have just performed is illustrated in Figure 3. Notice that the numbers we want to remember are in the remainder boxes along the right side of the diagram.\n",
    "\n",
    "![](images/toStr.png)"
   ]
  },
  {
   "cell_type": "code",
   "execution_count": 3,
   "metadata": {},
   "outputs": [
    {
     "name": "stdout",
     "output_type": "stream",
     "text": [
      "5AD\n"
     ]
    }
   ],
   "source": [
    "def toStr(n,base):\n",
    "    convertString = \"0123456789ABCDEF\"\n",
    "    if n < base:\n",
    "        return convertString[n]\n",
    "    else:\n",
    "        return toStr(n//base,base) + convertString[n%base]\n",
    "\n",
    "print(toStr(1453,16))"
   ]
  },
  {
   "cell_type": "markdown",
   "metadata": {},
   "source": [
    "Let’s trace the algorithm again; this time we will convert the number 10 to its base 2 string representation (`\"1010\"`).\n",
    "\n",
    "![](images/toStrBase2.png)"
   ]
  },
  {
   "cell_type": "markdown",
   "metadata": {},
   "source": [
    "Figure 4 shows that we get the results we are looking for, but it looks like the digits are in the wrong order. The algorithm works correctly because we make the recursive call first on line 6, then we add the string representation of the remainder. If we reversed returning the `convertString` lookup and returning the `toStr` call, the resulting string would be backward! But by delaying the concatenation operation until after the recursive call has returned, we get the result in the proper order. This should remind you of our discussion of stacks back in the previous chapter."
   ]
  },
  {
   "cell_type": "markdown",
   "metadata": {},
   "source": [
    "## 4.6. Stack Frames: Implementing Recursion\n",
    "Suppose that instead of concatenating the result of the recursive call to `toStr` with the string from `convertString`, we modified our algorithm to push the strings onto a stack instead of making the recursive call."
   ]
  },
  {
   "cell_type": "code",
   "execution_count": 4,
   "metadata": {},
   "outputs": [
    {
     "name": "stdout",
     "output_type": "stream",
     "text": [
      "5AD\n"
     ]
    }
   ],
   "source": [
    "from pythonds.basic.stack import Stack\n",
    "\n",
    "rStack = Stack()\n",
    "\n",
    "def toStr(n,base):\n",
    "    convertString = \"0123456789ABCDEF\"\n",
    "    while n > 0:\n",
    "        if n < base:\n",
    "            rStack.push(convertString[n])\n",
    "        else:\n",
    "            rStack.push(convertString[n % base])\n",
    "        n = n // base\n",
    "    res = \"\"\n",
    "    while not rStack.isEmpty():\n",
    "        res = res + str(rStack.pop())\n",
    "    return res\n",
    "\n",
    "print(toStr(1453,16))"
   ]
  },
  {
   "cell_type": "markdown",
   "metadata": {},
   "source": [
    "The previous example gives us some insight into how Python implements a recursive function call. When a function is called in Python, a **stack frame** is allocated to handle the local variables of the function. When the function returns, the return value is left on top of the stack for the calling function to access. Figure 6 illustrates the call stack after the return statement on line 4.\n",
    "\n",
    "![](images/newcallstack.png)\n",
    "\n",
    "Notice that the call to `toStr(2//2,2)` leaves a return value of `\"1\"` on the stack. This return value is then used in place of the function call (`toStr(1,2)`) in the expression `\"1\" + convertString[2%2]`, which will leave the string `\"10\"` on the top of the stack. In this way, the Python call stack takes the place of the stack we used explicitly in Listing 4. In our list summing example, you can think of the return value on the stack taking the place of an accumulator variable.\n",
    "\n",
    "The stack frames also provide a scope for the variables used by the function. Even though we are calling the same function over and over, each call creates a new scope for the variables that are local to the function."
   ]
  },
  {
   "cell_type": "markdown",
   "metadata": {},
   "source": [
    "## 4.7. Introduction: Visualizing Recursion\n",
    "In the previous section we looked at some problems that were easy to solve using recursion; however, it can still be difficult to find a mental model or a way of visualizing what is happening in a recursive function. This can make recursion difficult for people to grasp. In this section we will look at a couple of examples of using recursion to draw some interesting pictures. As you watch these pictures take shape you will get some new insight into the recursive process that may be helpful in cementing your understanding of recursion.\n",
    "\n",
    "The tool we will use for our illustrations is Python’s turtle graphics module called `turtle`. The `turtle` module is standard with all versions of Python and is very easy to use.\n",
    "\n",
    "Here is a simple example to illustrate some turtle graphics basics. We will use the turtle module to draw a spiral recursively. ActiveCode 1 shows how it is done. After importing the `turtle` module we create a turtle. When the turtle is created it also creates a window for itself to draw in. Next we define the drawSpiral function. The base case for this simple function is when the length of the line we want to draw, as given by the `len` parameter, is reduced to zero or less. If the length of the line is longer than zero we instruct the turtle to go forward by `len` units and then turn right 90 degrees. The recursive step is when we call drawSpiral again with a reduced length. At the end of ActiveCode 1 you will notice that we call the function `myWin.exitonclick()`, this is a handy little method of the window that puts the turtle into a wait mode until you click inside the window, after which the program cleans up and exits."
   ]
  },
  {
   "cell_type": "code",
   "execution_count": 5,
   "metadata": {},
   "outputs": [],
   "source": [
    "import turtle\n",
    "\n",
    "myTurle = turtle.Turtle()\n",
    "myWin = turtle.Screen()\n",
    "\n",
    "def drawSpiral(myTurture, lineLen):\n",
    "    if lineLen > 0:\n",
    "        myTurle.forward(lineLen)\n",
    "        myTurle.right(90)\n",
    "        drawSpiral(myTurle, lineLen-5)\n",
    "        \n",
    "drawSpiral(myTurle, 100)\n",
    "myWin.exitonclick()"
   ]
  },
  {
   "cell_type": "markdown",
   "metadata": {},
   "source": [
    "That is really about all the turtle graphics you need to know in order to make some pretty impressive drawings. For our next program we are going to draw a fractal tree. Fractals come from a branch of mathematics, and have much in common with recursion. The definition of a fractal is that when you look at it the fractal has the same basic shape no matter how much you magnify it.\n",
    "\n",
    "To understand how this is going to work it is helpful to think of how we might describe a tree using a fractal vocabulary. Remember that we said above that a fractal is something that looks the same at all different levels of magnification. Using this idea we could say that a tree is a trunk, with a smaller tree going off to the right and another smaller tree going off to the left. If you think of this definition recursively it means that we will apply the recursive definition of a tree to both of the smaller left and right trees.\n",
    "\n",
    "Let’s translate this idea to some Python code. Listing 1 shows how we can use our turtle to generate a fractal tree. Let’s look at the code a bit more closely. You will see that on lines 5 and 7 we are making a recursive call. On line 5 we make the recursive call right after the turtle turns to the right by 20 degrees; this is the right tree mentioned above. Then in line 7 the turtle makes another recursive call, but this time after turning left by 40 degrees. The reason the turtle must turn left by 40 degrees is that it needs to undo the original 20 degree turn to the right and then do an additional 20 degree turn to the left in order to draw the left tree. Also notice that each time we make a recursive call to `tree` we subtract some amount from the `branchLen` parameter; this is to make sure that the recursive trees get smaller and smaller. You should also recognize the initial `if` statement on line 2 as a check for the base case of `branchLen` getting too small."
   ]
  },
  {
   "cell_type": "code",
   "execution_count": 1,
   "metadata": {},
   "outputs": [],
   "source": [
    "import turtle\n",
    "\n",
    "def tree(branchLen,t):\n",
    "    if branchLen > 5:\n",
    "        t.forward(branchLen)\n",
    "        t.right(30)\n",
    "        tree(branchLen-15,t)\n",
    "        t.left(60)\n",
    "        tree(branchLen-15,t)\n",
    "        t.right(30)\n",
    "        t.backward(branchLen)\n",
    "\n",
    "def main():\n",
    "    t = turtle.Turtle()\n",
    "    myWin = turtle.Screen()\n",
    "    t.left(90)\n",
    "    t.up()\n",
    "    t.backward(150)\n",
    "    t.down()\n",
    "    t.color(\"green\")\n",
    "    tree(75,t)\n",
    "    myWin.exitonclick()\n",
    "\n",
    "main()"
   ]
  },
  {
   "cell_type": "markdown",
   "metadata": {},
   "source": [
    "Notice how each branch point on the tree corresponds to a recursive call, and notice how the tree is drawn to the right all the way down to its shortest twig. You can see this in Figure 1. Now, notice how the program works its way back up the trunk until the entire right side of the tree is drawn. You can see the right half of the tree in Figure 2. Then the left side of the tree is drawn, but not by going as far out to the left as possible. Rather, once again the entire right side of the left tree is drawn until we finally make our way out to the smallest twig on the left."
   ]
  },
  {
   "cell_type": "markdown",
   "metadata": {},
   "source": [
    "## 4.8. Sierpinski Triangle\n",
    "Another fractal that exhibits the property of self-similarity is the Sierpinski triangle. An example is shown in Figure 3. The Sierpinski triangle illustrates a three-way recursive algorithm. The procedure for drawing a Sierpinski triangle by hand is simple. Start with a single large triangle. Divide this large triangle into four new triangles by connecting the midpoint of each side. Ignoring the middle triangle that you just created, apply the same procedure to each of the three corner triangles. Each time you create a new set of triangles, you recursively apply this procedure to the three smaller corner triangles. You can continue to apply this procedure indefinitely if you have a sharp enough pencil. Before you continue reading, you may want to try drawing the Sierpinski triangle yourself, using the method described.\n",
    "\n",
    "![](images/sierpinski.png)"
   ]
  },
  {
   "cell_type": "markdown",
   "metadata": {},
   "source": [
    "Since we can continue to apply the algorithm indefinitely, what is the base case? We will see that the base case is set arbitrarily as the number of times we want to divide the triangle into pieces. Sometimes we call this number the “degree” of the fractal. Each time we make a recursive call, we subtract 1 from the degree until we reach 0. When we reach a degree of 0, we stop making recursive calls. The code that generated the Sierpinski Triangle in Figure 3 is shown in ActiveCode 1.\n",
    "\n"
   ]
  },
  {
   "cell_type": "code",
   "execution_count": 1,
   "metadata": {},
   "outputs": [],
   "source": [
    "import turtle\n",
    "\n",
    "def drawTriangle(points,color,myTurtle):\n",
    "    myTurtle.fillcolor(color)\n",
    "    myTurtle.up()\n",
    "    myTurtle.goto(points[0][0],points[0][1])\n",
    "    myTurtle.down()\n",
    "    myTurtle.begin_fill()\n",
    "    myTurtle.goto(points[1][0],points[1][1])\n",
    "    myTurtle.goto(points[2][0],points[2][1])\n",
    "    myTurtle.goto(points[0][0],points[0][1])\n",
    "    myTurtle.end_fill()\n",
    "\n",
    "def getMid(p1,p2):\n",
    "    return ( (p1[0]+p2[0]) / 2, (p1[1] + p2[1]) / 2)\n",
    "\n",
    "def sierpinski(points,degree,myTurtle):\n",
    "    colormap = ['blue','red','green','white','yellow',\n",
    "                'violet','orange']\n",
    "    drawTriangle(points,colormap[degree],myTurtle)\n",
    "    if degree > 0:\n",
    "        sierpinski([points[0],\n",
    "                        getMid(points[0], points[1]),\n",
    "                        getMid(points[0], points[2])],\n",
    "                   degree-1, myTurtle)\n",
    "        sierpinski([points[1],\n",
    "                        getMid(points[0], points[1]),\n",
    "                        getMid(points[1], points[2])],\n",
    "                   degree-1, myTurtle)\n",
    "        sierpinski([points[2],\n",
    "                        getMid(points[2], points[1]),\n",
    "                        getMid(points[0], points[2])],\n",
    "                   degree-1, myTurtle)\n",
    "\n",
    "def main():\n",
    "   myTurtle = turtle.Turtle()\n",
    "   myWin = turtle.Screen()\n",
    "   myPoints = [[-100,-50],[0,100],[100,-50]]\n",
    "   sierpinski(myPoints,3,myTurtle)\n",
    "   myWin.exitonclick()\n",
    "\n",
    "main()"
   ]
  },
  {
   "cell_type": "markdown",
   "metadata": {},
   "source": [
    "The program in ActiveCode 1 follows the ideas outlined above. The first thing `sierpinski` does is draw the outer triangle. Next, there are three recursive calls, one for each of the new corner triangles we get when we connect the midpoints. Once again we make use of the standard turtle module that comes with Python. You can learn all the details of the methods available in the turtle module by using `help('turtle')` from the Python prompt.\n",
    "\n",
    "Look at the code and think about the order in which the triangles will be drawn. While the exact order of the corners depends upon how the initial set is specified, let’s assume that the corners are ordered lower left, top, lower right. Because of the way the `sierpinski` function calls itself, `sierpinski` works its way to the smallest allowed triangle in the lower-left corner, and then begins to fill out the rest of the triangles working back. Then it fills in the triangles in the top corner by working toward the smallest, topmost triangle. Finally, it fills in the lower-right corner, working its way toward the smallest triangle in the lower right.\n",
    "\n",
    "Sometimes it is helpful to think of a recursive algorithm in terms of a diagram of function calls. Figure 4 shows that the recursive calls are always made going to the left. The active functions are outlined in black, and the inactive function calls are in gray. The farther you go toward the bottom of Figure 4, the smaller the triangles. The function finishes drawing one level at a time; once it is finished with the bottom left it moves to the bottom middle, and so on.\n",
    "\n",
    "![](images/stCallTree.png)\n",
    "\n",
    "The `sierpinski` function relies heavily on the `getMid` function. `getMid` takes as arguments two endpoints and returns the point halfway between them. In addition, ActiveCode 1 has a function that draws a filled triangle using the `begin_fill` and `end_fill` turtle methods."
   ]
  },
  {
   "cell_type": "markdown",
   "metadata": {},
   "source": [
    "## 4.9. Complex Recursive Problems\n",
    "In the previous sections we looked at some problems that are relatively easy to solve and some graphically interesting problems that can help us gain a mental model of what is happening in a recursive algorithm. In this section we will look at some problems that are really difficult to solve using an iterative programming style but are very elegant and easy to solve using recursion. We will finish up by looking at a deceptive problem that at first looks like it has an elegant recursive solution but in fact does not."
   ]
  },
  {
   "cell_type": "markdown",
   "metadata": {},
   "source": [
    "## 4.10. Tower of Hanoi\n",
    "The Tower of Hanoi puzzle was invented by the French mathematician Edouard Lucas in 1883. He was inspired by a legend that tells of a Hindu temple where the puzzle was presented to young priests. At the beginning of time, the priests were given three poles and a stack of 64 gold disks, each disk a little smaller than the one beneath it. Their assignment was to transfer all 64 disks from one of the three poles to another, with two important constraints. They could only move one disk at a time, and they could never place a larger disk on top of a smaller one. The priests worked very efficiently, day and night, moving one disk every second. When they finished their work, the legend said, the temple would crumble into dust and the world would vanish.\n",
    "\n",
    "Although the legend is interesting, you need not worry about the world ending any time soon. The number of moves required to correctly move a tower of 64 disks is $2^{64}−1=18,446,744,073,709,551,615$. At a rate of one move per second, that is $584,942,417,355$ years! Clearly there is more to this puzzle than meets the eye.\n",
    "\n",
    "Figure 1 shows an example of a configuration of disks in the middle of a move from the first peg to the third. Notice that, as the rules specify, the disks on each peg are stacked so that smaller disks are always on top of the larger disks. If you have not tried to solve this puzzle before, you should try it now. You do not need fancy disks and poles–a pile of books or pieces of paper will work.\n",
    "\n",
    "![](images/hanoi.png)"
   ]
  },
  {
   "cell_type": "markdown",
   "metadata": {},
   "source": [
    "Here is a high-level outline of how to move a tower from the starting pole, to the goal pole, using an intermediate pole:\n",
    "\n",
    "Move a tower of height-1 to an intermediate pole, using the final pole.\n",
    "Move the remaining disk to the final pole.\n",
    "Move the tower of height-1 from the intermediate pole to the final pole using the original pole.\n",
    "As long as we always obey the rule that the larger disks remain on the bottom of the stack, we can use the three steps above recursively, treating any larger disks as though they were not even there. The only thing missing from the outline above is the identification of a base case. The simplest Tower of Hanoi problem is a tower of one disk. In this case, we need move only a single disk to its final destination. A tower of one disk will be our base case. In addition, the steps outlined above move us toward the base case by reducing the height of the tower in steps 1 and 3. Listing 1 shows the Python code to solve the Tower of Hanoi puzzle."
   ]
  },
  {
   "cell_type": "code",
   "execution_count": 3,
   "metadata": {},
   "outputs": [],
   "source": [
    "def moveTower(height,fromPole, toPole, withPole):\n",
    "    if height >= 1:\n",
    "        moveTower(height-1,fromPole,withPole,toPole)\n",
    "        moveDisk(fromPole,toPole)\n",
    "        moveTower(height-1,withPole,toPole,fromPole)"
   ]
  },
  {
   "cell_type": "markdown",
   "metadata": {},
   "source": [
    "Notice that the code in Listing 1 is almost identical to the English description. The key to the simplicity of the algorithm is that we make two different recursive calls, one on line 3 and a second on line 5. On line 3 we move all but the bottom disk on the initial tower to an intermediate pole. The next line simply moves the bottom disk to its final resting place. Then on line 5 we move the tower from the intermediate pole to the top of the largest disk. The base case is detected when the tower height is 0; in this case there is nothing to do, so the `moveTower` function simply returns. The important thing to remember about handling the base case this way is that simply returning from `moveTower` is what finally allows the `moveDisk` function to be called.\n",
    "\n",
    "The function `moveDisk`, shown in Listing 2, is very simple. All it does is print out that it is moving a disk from one pole to another. If you type in and run the `moveTower` program you can see that it gives you a very efficient solution to the puzzle."
   ]
  },
  {
   "cell_type": "code",
   "execution_count": 4,
   "metadata": {},
   "outputs": [
    {
     "name": "stdout",
     "output_type": "stream",
     "text": [
      "moving disk from A to C\n",
      "moving disk from A to B\n",
      "moving disk from C to B\n",
      "moving disk from A to C\n",
      "moving disk from B to A\n",
      "moving disk from B to C\n",
      "moving disk from A to C\n",
      "moving disk from A to B\n",
      "moving disk from C to B\n",
      "moving disk from C to A\n",
      "moving disk from B to A\n",
      "moving disk from C to B\n",
      "moving disk from A to C\n",
      "moving disk from A to B\n",
      "moving disk from C to B\n"
     ]
    }
   ],
   "source": [
    "def moveTower(height,fromPole, toPole, withPole):\n",
    "    if height >= 1:\n",
    "        moveTower(height-1,fromPole,withPole,toPole)\n",
    "        moveDisk(fromPole,toPole)\n",
    "        moveTower(height-1,withPole,toPole,fromPole)\n",
    "\n",
    "def moveDisk(fp,tp):\n",
    "    print(\"moving disk from\",fp,\"to\",tp)\n",
    "\n",
    "moveTower(4,\"A\",\"B\",\"C\")"
   ]
  },
  {
   "cell_type": "markdown",
   "metadata": {},
   "source": [
    "Now that you have seen the code for both `moveTower` and `moveDisk`, you may be wondering why we do not have a data structure that explicitly keeps track of what disks are on what poles. Here is a hint: if you were going to explicitly keep track of the disks, you would probably use three `Stack` objects, one for each pole. The answer is that Python provides the stacks that we need implicitly through the call stack."
   ]
  },
  {
   "cell_type": "markdown",
   "metadata": {},
   "source": [
    "## 4.11. Exploring a Maze\n",
    "In this section we will look at a problem that has relevance to the expanding world of robotics: How do you find your way out of a maze? If you have a Roomba vacuum cleaner for your dorm room (don’t all college students?) you will wish that you could reprogram it using what you have learned in this section. The problem we want to solve is to help our turtle find its way out of a virtual maze. The maze problem has roots as deep as the Greek myth about Theseus who was sent into a maze to kill the minotaur. Theseus used a ball of thread to help him find his way back out again once he had finished off the beast. In our problem we will assume that our turtle is dropped down somewhere into the middle of the maze and must find its way out. Look at Figure 2 to get an idea of where we are going in this section.\n",
    "\n",
    "![](images/maze.png)"
   ]
  },
  {
   "cell_type": "markdown",
   "metadata": {},
   "source": [
    "To make it easier for us we will assume that our maze is divided up into “squares.” Each square of the maze is either open or occupied by a section of wall. The turtle can only pass through the open squares of the maze. If the turtle bumps into a wall it must try a different direction. The turtle will require a systematic procedure to find its way out of the maze. Here is the procedure:\n",
    "\n",
    "* From our starting position we will first try going **North** one square and then recursively try our procedure from there.\n",
    "* If we are not successful by trying a Northern path as the first step then we will take a step to the **South** and recursively repeat our procedure.\n",
    "* If South does not work then we will try a step to the **West** as our first step and recursively apply our procedure.\n",
    "* If North, South, and West have not been successful then apply the procedure recursively from a position one step to our **East**.\n",
    "* If none of these directions works then there is no way to get out of the maze and we fail."
   ]
  },
  {
   "cell_type": "markdown",
   "metadata": {},
   "source": [
    "Now, that sounds pretty easy, but there are a couple of details to talk about first. Suppose we take our first recursive step by going North. By following our procedure our next step would also be to the North. But if the North is blocked by a wall we must look at the next step of the procedure and try going to the South. Unfortunately that step to the south brings us right back to our *original starting place*. If we apply the recursive procedure from there we will just go back one step to the North and be in an infinite loop. So, we must have a strategy to *remember where we have been*. In this case we will assume that we have a bag of bread crumbs we can drop along our way. If we take a step in a certain direction and find that there is a bread crumb already on that square, we know that we should immediately back up and try the next direction in our procedure. As we will see when we look at the code for this algorithm, backing up is as simple as returning from a recursive function call."
   ]
  },
  {
   "cell_type": "markdown",
   "metadata": {},
   "source": [
    "As we do for all recursive algorithms let us review the base cases. Some of them you may already have guessed based on the description in the previous paragraph. In this algorithm, there are four base cases to consider:\n",
    "\n",
    "* The turtle has run into a wall. Since the square is occupied by a wall no further exploration can take place.\n",
    "* The turtle has found a square that has already been explored. We do not want to continue exploring from this position or we will get into a loop.\n",
    "* We have found an outside edge, not occupied by a wall. In other words we have found an exit from the maze.\n",
    "* We have explored a square unsuccessfully in all four directions.\n",
    "\n",
    "For our program to work we will need to have a way to represent the maze. To make this even more interesting we are going to use the turtle module to draw and explore our maze so we can watch this algorithm in action. The maze object will provide the following methods for us to use in writing our search algorithm:\n",
    "\n",
    "* `__init__` Reads in a data file representing a maze, initializes the internal representation of the maze, and finds the starting position for the turtle.\n",
    "* `drawMaze` Draws the maze in a window on the screen.\n",
    "* `updatePosition` Updates the internal representation of the maze and changes the position of the turtle in the window.\n",
    "* `isExit` Checks to see if the current position is an exit from the maze.\n",
    "\n",
    "The `Maze` class also overloads the index operator `[]` so that our algorithm can easily access the status of any particular square.\n",
    "\n",
    "Let’s examine the code for the search function which we call `searchFrom`. The code is shown in Listing 3. Notice that this function takes three parameters: a maze object, the starting row, and the starting column. This is important because as a recursive function the search logically starts again with each recursive call."
   ]
  },
  {
   "cell_type": "markdown",
   "metadata": {},
   "source": [
    "As you look through the algorithm you will see that the first thing the code does (line 2) is call `updatePosition`. This is simply to help you visualize the algorithm so that you can watch exactly how the turtle explores its way through the maze. Next the algorithm checks for the first three of the four base cases: Has the turtle run into a wall (line 5)? Has the turtle circled back to a square already explored (line 8)? Has the turtle found an exit (line 11)? If none of these conditions is true then we continue the search recursively.\n",
    "\n",
    "You will notice that in the recursive step there are four recursive calls to `searchFrom`. It is hard to predict how many of these recursive calls will be used since they are all connected by `or` statements. If the first call to `searchFrom` returns `True` then none of the last three calls would be needed. You can interpret this as meaning that a step to (`row-1,column`) (or North if you want to think geographically) is on the path leading out of the maze. If there is not a good path leading out of the maze to the North then the next recursive call is tried, this one to the South. If South fails then try West, and finally East. If all four recursive calls return false then we have found a dead end. You should download or type in the whole program and experiment with it by changing the order of these calls.\n",
    "\n",
    "The code for the `Maze` class is shown in Listing 4, Listing 5, and Listing 6. The `__init__` method takes the name of a file as its only parameter. This file is a text file that represents a maze by using “+” characters for walls, spaces for open squares, and the letter “S” to indicate the starting position. Figure 3 is an example of a maze data file. The internal representation of the maze is a list of lists. Each row of the `mazelist` instance variable is also a list. This secondary list contains one character per square using the characters described above. For the data file in Figure 3 the internal representation looks like the following:"
   ]
  },
  {
   "cell_type": "code",
   "execution_count": 4,
   "metadata": {},
   "outputs": [
    {
     "data": {
      "text/plain": [
       "[['+', '+', '+', '+', Ellipsis, '+', '+', '+', '+', '+', '+', '+'],\n",
       " ['+', ' ', ' ', ' ', Ellipsis, ' ', ' ', ' ', '+', ' ', ' ', ' '],\n",
       " ['+', ' ', '+', ' ', Ellipsis, '+', '+', ' ', '+', ' ', '+', '+'],\n",
       " ['+', ' ', '+', ' ', Ellipsis, ' ', ' ', ' ', '+', ' ', '+', '+'],\n",
       " ['+', '+', '+', ' ', Ellipsis, '+', '+', ' ', '+', ' ', ' ', '+'],\n",
       " ['+', ' ', ' ', ' ', Ellipsis, '+', '+', ' ', ' ', ' ', ' ', '+'],\n",
       " ['+', '+', '+', '+', Ellipsis, '+', '+', '+', '+', '+', ' ', '+'],\n",
       " ['+', ' ', ' ', ' ', Ellipsis, '+', '+', ' ', ' ', '+', ' ', '+'],\n",
       " ['+', ' ', '+', '+', Ellipsis, ' ', ' ', '+', ' ', ' ', ' ', '+'],\n",
       " ['+', ' ', ' ', ' ', Ellipsis, ' ', ' ', '+', ' ', '+', '+', '+'],\n",
       " ['+', '+', '+', '+', Ellipsis, '+', '+', '+', ' ', '+', '+', '+']]"
      ]
     },
     "execution_count": 4,
     "metadata": {},
     "output_type": "execute_result"
    }
   ],
   "source": [
    "[ ['+','+','+','+',...,'+','+','+','+','+','+','+'],\n",
    "  ['+',' ',' ',' ',...,' ',' ',' ','+',' ',' ',' '],\n",
    "  ['+',' ','+',' ',...,'+','+',' ','+',' ','+','+'],\n",
    "  ['+',' ','+',' ',...,' ',' ',' ','+',' ','+','+'],\n",
    "  ['+','+','+',' ',...,'+','+',' ','+',' ',' ','+'],\n",
    "  ['+',' ',' ',' ',...,'+','+',' ',' ',' ',' ','+'],\n",
    "  ['+','+','+','+',...,'+','+','+','+','+',' ','+'],\n",
    "  ['+',' ',' ',' ',...,'+','+',' ',' ','+',' ','+'],\n",
    "  ['+',' ','+','+',...,' ',' ','+',' ',' ',' ','+'],\n",
    "  ['+',' ',' ',' ',...,' ',' ','+',' ','+','+','+'],\n",
    "  ['+','+','+','+',...,'+','+','+',' ','+','+','+']]"
   ]
  },
  {
   "cell_type": "markdown",
   "metadata": {},
   "source": [
    "The `updatePosition` method, as shown in Listing 5 uses the same internal representation to see if the turtle has run into a wall. It also updates the internal representation with a “.” or “-” to indicate that the turtle has visited a particular square or if the square is part of a dead end. In addition, the `updatePosition` method uses two helper methods, `moveTurtle` and `dropBreadCrumb`, to update the view on the screen.\n",
    "\n",
    "Finally, the `isExit` method uses the current position of the turtle to test for an exit condition. An exit condition is whenever the turtle has navigated to the edge of the maze, either row zero or column zero, or the far right column or the bottom row."
   ]
  },
  {
   "cell_type": "markdown",
   "metadata": {},
   "source": [
    "The `updatePosition` method, as shown in Listing 5 uses the same internal representation to see if the turtle has run into a wall. It also updates the internal representation with a “.” or “-” to indicate that the turtle has visited a particular square or if the square is part of a dead end. In addition, the `updatePosition` method uses two helper methods, `moveTurtle` and `dropBreadCrumb`, to update the view on the screen.\n",
    "\n",
    "Finally, the `isExit` method uses the current position of the turtle to test for an exit condition. An exit condition is whenever the turtle has navigated to the edge of the maze, either row zero or column zero, or the far right column or the bottom row."
   ]
  },
  {
   "cell_type": "code",
   "execution_count": 1,
   "metadata": {},
   "outputs": [
    {
     "data": {
      "text/plain": [
       "True"
      ]
     },
     "execution_count": 1,
     "metadata": {},
     "output_type": "execute_result"
    }
   ],
   "source": [
    "import turtle\n",
    "\n",
    "PART_OF_PATH = 'O'\n",
    "TRIED = '.'\n",
    "OBSTACLE = '+'\n",
    "DEAD_END = '-'\n",
    "\n",
    "class Maze:\n",
    "    def __init__(self,mazeFileName):\n",
    "        rowsInMaze = 0\n",
    "        columnsInMaze = 0\n",
    "        self.mazelist = []\n",
    "        mazeFile = open(mazeFileName,'r')\n",
    "        rowsInMaze = 0\n",
    "        for line in mazeFile:\n",
    "            rowList = []\n",
    "            col = 0\n",
    "            for ch in line[:-1]:\n",
    "                rowList.append(ch)\n",
    "                if ch == 'S':\n",
    "                    self.startRow = rowsInMaze\n",
    "                    self.startCol = col\n",
    "                col = col + 1\n",
    "            rowsInMaze = rowsInMaze + 1\n",
    "            self.mazelist.append(rowList)\n",
    "            columnsInMaze = len(rowList)\n",
    "\n",
    "        self.rowsInMaze = rowsInMaze\n",
    "        self.columnsInMaze = columnsInMaze\n",
    "        self.xTranslate = -columnsInMaze/2\n",
    "        self.yTranslate = rowsInMaze/2\n",
    "        self.t = turtle.Turtle()\n",
    "        self.t.shape('turtle')\n",
    "        self.wn = turtle.Screen()\n",
    "        self.wn.setworldcoordinates(-(columnsInMaze-1)/2-.5,-(rowsInMaze-1)/2-.5,(columnsInMaze-1)/2+.5,(rowsInMaze-1)/2+.5)\n",
    "\n",
    "    def drawMaze(self):\n",
    "        self.t.speed(10)\n",
    "        self.wn.tracer(0)\n",
    "        for y in range(self.rowsInMaze):\n",
    "            for x in range(self.columnsInMaze):\n",
    "                if self.mazelist[y][x] == OBSTACLE:\n",
    "                    self.drawCenteredBox(x+self.xTranslate,-y+self.yTranslate,'orange')\n",
    "        self.t.color('black')\n",
    "        self.t.fillcolor('blue')\n",
    "        self.wn.update()\n",
    "        self.wn.tracer(1)\n",
    "\n",
    "    def drawCenteredBox(self,x,y,color):\n",
    "        self.t.up()\n",
    "        self.t.goto(x-.5,y-.5)\n",
    "        self.t.color(color)\n",
    "        self.t.fillcolor(color)\n",
    "        self.t.setheading(90)\n",
    "        self.t.down()\n",
    "        self.t.begin_fill()\n",
    "        for i in range(4):\n",
    "            self.t.forward(1)\n",
    "            self.t.right(90)\n",
    "        self.t.end_fill()\n",
    "\n",
    "    def moveTurtle(self,x,y):\n",
    "        self.t.up()\n",
    "        self.t.setheading(self.t.towards(x+self.xTranslate,-y+self.yTranslate))\n",
    "        self.t.goto(x+self.xTranslate,-y+self.yTranslate)\n",
    "\n",
    "    def dropBreadcrumb(self,color):\n",
    "        self.t.dot(10,color)\n",
    "\n",
    "    def updatePosition(self,row,col,val=None):\n",
    "        if val:\n",
    "            self.mazelist[row][col] = val\n",
    "        self.moveTurtle(col,row)\n",
    "\n",
    "        if val == PART_OF_PATH:\n",
    "            color = 'green'\n",
    "        elif val == OBSTACLE:\n",
    "            color = 'red'\n",
    "        elif val == TRIED:\n",
    "            color = 'black'\n",
    "        elif val == DEAD_END:\n",
    "            color = 'red'\n",
    "        else:\n",
    "            color = None\n",
    "\n",
    "        if color:\n",
    "            self.dropBreadcrumb(color)\n",
    "\n",
    "    def isExit(self,row,col):\n",
    "        return (row == 0 or\n",
    "                row == self.rowsInMaze-1 or\n",
    "                col == 0 or\n",
    "                col == self.columnsInMaze-1 )\n",
    "\n",
    "    def __getitem__(self,idx):\n",
    "        return self.mazelist[idx]\n",
    "\n",
    "\n",
    "def searchFrom(maze, startRow, startColumn):\n",
    "    # try each of four directions from this point until we find a way out.\n",
    "    # base Case return values:\n",
    "    #  1. We have run into an obstacle, return false\n",
    "    maze.updatePosition(startRow, startColumn)\n",
    "    if maze[startRow][startColumn] == OBSTACLE :\n",
    "        return False\n",
    "    #  2. We have found a square that has already been explored\n",
    "    if maze[startRow][startColumn] == TRIED or maze[startRow][startColumn] == DEAD_END:\n",
    "        return False\n",
    "    # 3. We have found an outside edge not occupied by an obstacle\n",
    "    if maze.isExit(startRow,startColumn):\n",
    "        maze.updatePosition(startRow, startColumn, PART_OF_PATH)\n",
    "        return True\n",
    "    maze.updatePosition(startRow, startColumn, TRIED)\n",
    "    # Otherwise, use logical short circuiting to try each direction\n",
    "    # in turn (if needed)\n",
    "    found = searchFrom(maze, startRow-1, startColumn) or \\\n",
    "            searchFrom(maze, startRow, startColumn+1) or \\\n",
    "            searchFrom(maze, startRow, startColumn-1) or \\\n",
    "            searchFrom(maze, startRow+1, startColumn)\n",
    "    if found:\n",
    "        maze.updatePosition(startRow, startColumn, PART_OF_PATH)\n",
    "    else:\n",
    "        maze.updatePosition(startRow, startColumn, DEAD_END)\n",
    "    return found\n",
    "\n",
    "\n",
    "myMaze = Maze('maze2.txt')\n",
    "myMaze.drawMaze()\n",
    "myMaze.updatePosition(myMaze.startRow,myMaze.startCol)\n",
    "\n",
    "searchFrom(myMaze, myMaze.startRow, myMaze.startCol)\n"
   ]
  },
  {
   "cell_type": "markdown",
   "metadata": {},
   "source": [
    "## 4.12. Dynamic Programming\n",
    "Many programs in computer science are written to optimize some value; for example, find the shortest path between two points, find the line that best fits a set of points, or find the smallest set of objects that satisfies some criteria. There are many strategies that computer scientists use to solve these problems. One of the goals of this book is to expose you to several different problem solving strategies. **Dynamic programming** is one strategy for these types of optimization problems.\n",
    "\n",
    "A classic example of an optimization problem involves making change using the fewest coins. Suppose you are a programmer for a vending machine manufacturer. Your company wants to streamline effort by giving out the fewest possible coins in change for each transaction. Suppose a customer puts in a dollar bill and purchases an item for 37 cents. What is the smallest number of coins you can use to make change? The answer is six coins: two quarters, one dime, and three pennies. How did we arrive at the answer of six coins? We start with the largest coin in our arsenal (a quarter) and use as many of those as possible, then we go to the next lowest coin value and use as many of those as possible. This first approach is called a greedy method because we try to solve as big a piece of the problem as possible right away.\n",
    "\n",
    "The greedy method works fine when we are using U.S. coins, but suppose that your company decides to deploy its vending machines in Lower Elbonia where, in addition to the usual 1, 5, 10, and 25 cent coins they also have a 21 cent coin. In this instance our greedy method fails to find the optimal solution for 63 cents in change. With the addition of the 21 cent coin the greedy method would still find the solution to be six coins. However, the optimal answer is three 21 cent pieces.\n",
    "\n",
    "Let’s look at a method where we could be sure that we would find the optimal answer to the problem. Since this section is about recursion, you may have guessed that we will use a recursive solution. Let’s start with identifying the base case. If we are trying to make change for the same amount as the value of one of our coins, the answer is easy, one coin.\n",
    "\n",
    "If the amount does not match we have several options. What we want is the minimum of a penny plus the number of coins needed to make change for the original amount minus a penny, or a nickel plus the number of coins needed to make change for the original amount minus five cents, or a dime plus the number of coins needed to make change for the original amount minus ten cents, and so on. So the number of coins needed to make change for the original amount can be computed according to the following:"
   ]
  },
  {
   "cell_type": "markdown",
   "metadata": {},
   "source": [
    "\\begin{split}   numCoins =\n",
    "min\n",
    "\\begin{cases}\n",
    "1 + numCoins(original amount - 1) \\\\\n",
    "1 + numCoins(original amount - 5) \\\\\n",
    "1 + numCoins(original amount - 10) \\\\\n",
    "1 + numCoins(original amount - 25)\n",
    "\\end{cases}\n",
    "\\label{eqn_change}\\end{split}"
   ]
  },
  {
   "cell_type": "markdown",
   "metadata": {},
   "source": [
    "The algorithm for doing what we have just described is shown in Listing 7. In line 3 we are checking our base case; that is, we are trying to make change in the exact amount of one of our coins. If we do not have a coin equal to the amount of change, we make recursive calls for each different coin value less than the amount of change we are trying to make. Line 6 shows how we filter the list of coins to those less than the current value of change using a list comprehension. The recursive call also reduces the total amount of change we need to make by the value of the coin selected. The recursive call is made in line 7. Notice that on that same line we add 1 to our number of coins to account for the fact that we are using a coin. Just adding 1 is the same as if we had made a recursive call asking where we satisfy the base case condition immediately."
   ]
  },
  {
   "cell_type": "code",
   "execution_count": 3,
   "metadata": {},
   "outputs": [
    {
     "name": "stdout",
     "output_type": "stream",
     "text": [
      "6\n"
     ]
    }
   ],
   "source": [
    "def recMC(coinValueList,change):\n",
    "    minCoins = change\n",
    "    if change in coinValueList:\n",
    "        return 1\n",
    "    else:\n",
    "        for i in [c for c in coinValueList if c <= change]:\n",
    "            numCoins = 1 + recMC(coinValueList,change-i)\n",
    "        if numCoins < minCoins:\n",
    "            minCoins = numCoins\n",
    "    return minCoins\n",
    "\n",
    "print(recMC([1,5,10,25],63))"
   ]
  },
  {
   "cell_type": "markdown",
   "metadata": {},
   "source": [
    "The trouble with the algorithm in Listing 7 is that it is extremely inefficient. In fact, it takes **67,716,925** recursive calls to find the optimal solution to the 4 coins, 63 cents problem! To understand the fatal flaw in our approach look at Figure 5, which illustrates a small fraction of the 377 function calls needed to find the optimal set of coins to make change for 26 cents.\n",
    "\n",
    "Each node in the graph corresponds to a call to `recMC`. The label on the node indicates the amount of change for which we are computing the number of coins. The label on the arrow indicates the coin that we just used. By following the graph we can see the combination of coins that got us to any point in the graph. The main problem is that we are re-doing too many calculations. For example, the graph shows that the algorithm would recalculate the optimal number of coins to make change for 15 cents at least three times. Each of these computations to find the optimal number of coins for 15 cents itself takes 52 function calls. Clearly we are wasting a lot of time and effort recalculating old results.\n",
    "\n",
    "The key to cutting down on the amount of work we do is to remember some of the past results so we can avoid recomputing results we already know. A simple solution is to store the results for the minimum number of coins in a table when we find them. Then before we compute a new minimum, we first check the table to see if a result is already known. If there is already a result in the table, we use the value from the table rather than recomputing. ActiveCode 1 shows a modified algorithm to incorporate our table lookup scheme."
   ]
  },
  {
   "cell_type": "code",
   "execution_count": 5,
   "metadata": {},
   "outputs": [
    {
     "name": "stdout",
     "output_type": "stream",
     "text": [
      "6\n"
     ]
    }
   ],
   "source": [
    "def recDC(coinValueList,change,knownResults):\n",
    "    minCoins = change\n",
    "    if change in coinValueList:\n",
    "        knownResults[change] = 1\n",
    "        return 1\n",
    "    elif knownResults[change] > 0:\n",
    "        return knownResults[change]\n",
    "    else:\n",
    "        for i in [c for c in coinValueList if c <= change]:\n",
    "            numCoins = 1 + recDC(coinValueList, change-i,\n",
    "                              knownResults)\n",
    "            if numCoins < minCoins:\n",
    "                minCoins = numCoins\n",
    "                knownResults[change] = minCoins\n",
    "    return minCoins\n",
    "\n",
    "print(recDC([1,5,10,25],63,[0]*64))"
   ]
  },
  {
   "cell_type": "markdown",
   "metadata": {},
   "source": [
    "Notice that in line 6 we have added a test to see if our table contains the minimum number of coins for a certain amount of change. If it does not, we compute the minimum recursively and store the computed minimum in the table. Using this modified algorithm reduces the number of recursive calls we need to make for the four coin, 63 cent problem to 221 calls!\n",
    "\n",
    "A truly dynamic programming algorithm will take a more systematic approach to the problem. Our dynamic programming solution is going to start with making change for one cent and systematically work its way up to the amount of change we require. This guarantees us that at each step of the algorithm we already know the minimum number of coins needed to make change for any smaller amount.\n",
    "\n",
    "Let’s look at how we would fill in a table of minimum coins to use in making change for 11 cents. Figure 4 illustrates the process. We start with one cent. The only solution possible is one coin (a penny). The next row shows the minimum for one cent and two cents. Again, the only solution is two pennies. The fifth row is where things get interesting. Now we have two options to consider, five pennies or one nickel. How do we decide which is best? We consult the table and see that the number of coins needed to make change for four cents is four, plus one more penny to make five, equals five coins. Or we can look at zero cents plus one more nickel to make five cents equals 1 coin. Since the minimum of one and five is one we store 1 in the table. Fast forward again to the end of the table and consider 11 cents. Figure 5 shows the three options that we have to consider:\n",
    "\n",
    "1. A penny plus the minimum number of coins to make change for 11−1=10 cents (1)\n",
    "2. A nickel plus the minimum number of coins to make change for 11−5=6 cents (2)\n",
    "3. A dime plus the minimum number of coins to make change for 11−10=1 cent (1)\n",
    "\n",
    "Either option 1 or 3 will give us a total of two coins which is the minimum number of coins for 11 cents.\n",
    "\n",
    "![](images/changeTable.png)\n",
    "![](images/elevenCents.png)"
   ]
  },
  {
   "cell_type": "markdown",
   "metadata": {},
   "source": [
    "Listing 8 is a dynamic programming algorithm to solve our change-making problem. `dpMakeChange` takes three parameters: a list of valid coin values, the amount of change we want to make, and a list of the minimum number of coins needed to make each value. When the function is done `minCoins` will contain the solution for all values from 0 to the value of `change`."
   ]
  },
  {
   "cell_type": "code",
   "execution_count": 2,
   "metadata": {},
   "outputs": [
    {
     "name": "stdout",
     "output_type": "stream",
     "text": [
      "Making change for 63 requires\n",
      "3 coins\n",
      "They are:\n",
      "21\n",
      "21\n",
      "21\n",
      "The used list is as follows:\n",
      "[1, 1, 1, 1, 1, 5, 1, 1, 1, 1, 10, 1, 1, 1, 1, 5, 1, 1, 1, 1, 10, 21, 1, 1, 1, 25, 1, 1, 1, 1, 5, 10, 1, 1, 1, 10, 1, 1, 1, 1, 5, 10, 21, 1, 1, 10, 21, 1, 1, 1, 25, 1, 10, 1, 1, 5, 10, 1, 1, 1, 10, 1, 10, 21]\n"
     ]
    }
   ],
   "source": [
    "def dpMakeChange(coinValueList,change,minCoins,coinsUsed):\n",
    "    for cents in range(change+1):\n",
    "        coinCount = cents\n",
    "        newCoin = 1\n",
    "        for j in [c for c in coinValueList if c <= cents]:\n",
    "            if minCoins[cents-j] + 1 < coinCount:\n",
    "                coinCount = minCoins[cents-j]+1\n",
    "                newCoin = j\n",
    "        minCoins[cents] = coinCount\n",
    "        coinsUsed[cents] = newCoin\n",
    "    return minCoins[change]\n",
    "\n",
    "def printCoins(coinsUsed,change):\n",
    "    coin = change\n",
    "    while coin > 0:\n",
    "        thisCoin = coinsUsed[coin]\n",
    "        print(thisCoin)\n",
    "        coin = coin - thisCoin\n",
    "\n",
    "def main():\n",
    "    amnt = 63\n",
    "    clist = [1,5,10,21,25]\n",
    "    coinsUsed = [0]*(amnt+1)\n",
    "    coinCount = [0]*(amnt+1)\n",
    "\n",
    "    print(\"Making change for\",amnt,\"requires\")\n",
    "    print(dpMakeChange(clist,amnt,coinCount,coinsUsed),\"coins\")\n",
    "    print(\"They are:\")\n",
    "    printCoins(coinsUsed,amnt)\n",
    "    print(\"The used list is as follows:\")\n",
    "    print(coinsUsed)\n",
    "\n",
    "main()"
   ]
  },
  {
   "cell_type": "markdown",
   "metadata": {},
   "source": [
    "Note that `dpMakeChange` is not a *recursive function*, even though we started with a recursive solution to this problem. It is important to realize that just because you can write a recursive solution to a problem does not mean it is the best or most efficient solution. The bulk of the work in this function is done by the loop that starts on line 4. In this loop we consider using all possible coins to make change for the amount specified by `cents`. Like we did for the 11 cent example above, we remember the minimum value and store it in our `minCoins` list.\n",
    "\n",
    "Although our making change algorithm does a good job of figuring out the minimum number of coins, it does not help us make change since we do not keep track of the coins we use. We can easily extend `dpMakeChange` to keep track of the coins used by simply remembering the last coin we add for each entry in the `minCoins` table. If we know the last coin added, we can simply subtract the value of the coin to find a previous entry in the table that tells us the last coin we added to make that amount. We can keep tracing back through the table until we get to the beginning.\n",
    "\n",
    "ActiveCode 2 shows the `dpMakeChange` algorithm modified to keep track of the coins used, along with a function `printCoins` that walks backward through the table to print out the value of each coin used. This shows the algorithm in action solving the problem for our friends in Lower Elbonia. The first two lines of `main` set the amount to be converted and create the list of coins used. The next two lines create the lists we need to store the results. `coinsUsed` is a list of the coins used to make change, and `coinCount` is the minimum number of coins used to make change for the amount corresponding to the position in the list.\n",
    "\n",
    "Notice that the coins we print out come directly from the `coinsUsed` array. For the first call we start at array position 63 and print $21$. Then we take $63−21=42$ and look at the $42nd$ element of the list. Once again we find a $21$ stored there. Finally, element $21$ of the array also contains $21$, giving us the three $21$ cent pieces."
   ]
  },
  {
   "cell_type": "markdown",
   "metadata": {},
   "source": [
    "## 4.13. Summary\n",
    "In this chapter we have looked at examples of several recursive algorithms. These algorithms were chosen to expose you to several different problems where recursion is an effective problem-solving technique. The key points to remember from this chapter are as follows:\n",
    "\n",
    "* All recursive algorithms must have a base case.\n",
    "* A recursive algorithm must change its state and make progress toward the base case.\n",
    "* A recursive algorithm must call itself (recursively).\n",
    "* Recursion can take the place of iteration in some cases.\n",
    "* Recursive algorithms often map very naturally to a formal expression of the problem you are trying to solve.\n",
    "* Recursion is not always the answer. Sometimes a recursive solution may be more computationally expensive than an alternative algorithm."
   ]
  },
  {
   "cell_type": "markdown",
   "metadata": {},
   "source": [
    "## 4.14. Key Terms\n",
    "| | | |\n",
    "|-----------|----------------|---------------------|\n",
    "| base case | decrypt        | dynamic programming |\n",
    "| recursion | recursive call | stack frame         |"
   ]
  },
  {
   "cell_type": "markdown",
   "metadata": {},
   "source": [
    "## 4.15. Discussion Questions\n",
    "1. Draw a call stack for the Tower of Hanoi problem. Assume that you start with a stack of three disks.\n",
    "2. Using the recursive rules as described, draw a Sierpinski triangle using paper and pencil.\n",
    "3. Using the dynamic programming algorithm for making change, find the smallest number of coins that you can use to make 33 cents in change. In addition to the usual coins assume that you have an 8 cent coin."
   ]
  },
  {
   "cell_type": "code",
   "execution_count": null,
   "metadata": {},
   "outputs": [],
   "source": []
  }
 ],
 "metadata": {
  "kernelspec": {
   "display_name": "Python 3",
   "language": "python",
   "name": "python3"
  },
  "language_info": {
   "codemirror_mode": {
    "name": "ipython",
    "version": 3
   },
   "file_extension": ".py",
   "mimetype": "text/x-python",
   "name": "python",
   "nbconvert_exporter": "python",
   "pygments_lexer": "ipython3",
   "version": "3.8.3"
  }
 },
 "nbformat": 4,
 "nbformat_minor": 4
}
